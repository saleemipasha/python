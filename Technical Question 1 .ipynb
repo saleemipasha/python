{
 "cells": [
  {
   "cell_type": "code",
   "execution_count": 3,
   "metadata": {},
   "outputs": [
    {
     "name": "stdout",
     "output_type": "stream",
     "text": [
      "Valid Ip address\n"
     ]
    }
   ],
   "source": [
    "import re\n",
    " \n",
    "# for validating an Ip-address\n",
    "regex = \"^((25[0-5]|2[0-4][0-9]|1[0-9][0-9]|[1-9]?[0-9])\\.){3}(25[0-5]|2[0-4][0-9]|1[0-9][0-9]|[1-9]?[0-9])$\"\n",
    " \n",
    " \n",
    "def check(Ip):\n",
    " \n",
    "    # pass the regular expression\n",
    "    # and the string in search() method\n",
    "    if(re.search(regex, Ip)):\n",
    "        print(\"Valid Ip address\")\n",
    "         \n",
    "    else:\n",
    "        print(\"Invalid Ip address\")\n",
    "     \n",
    "# Driver Code\n",
    "if __name__ == '__main__' :\n",
    "     \n",
    "    # Enter the Ip address\n",
    "    Ip = \"192.168.1.1\"\n",
    "     \n",
    "    # calling run function\n",
    "    check(Ip)\n",
    " \n",
    "   # Ip = \"110.234.52.124\"\n",
    "    #check(Ip)\n",
    " \n",
    "    #Ip = \"366.1.2.2\"\n",
    "    #check(Ip)\n",
    "    "
   ]
  },
  {
   "cell_type": "code",
   "execution_count": 6,
   "metadata": {},
   "outputs": [
    {
     "name": "stdout",
     "output_type": "stream",
     "text": [
      "11000000.10101000.00000001.00000001\n"
     ]
    }
   ],
   "source": [
    "# converting ip address in list\n",
    "ip = Ip.split(\".\")\n",
    "\n",
    "#print(ip)  # list \n",
    "\n",
    "#  after converting in list, one by one coversion of Ip address in binary numbers\n",
    "print ('{0:08b}.{1:08b}.{2:08b}.{3:08b}'.format(int(ip[0]), int(ip[1]),int(ip[2]),int(ip[3])))\n",
    "\n"
   ]
  },
  {
   "cell_type": "code",
   "execution_count": null,
   "metadata": {},
   "outputs": [],
   "source": []
  }
 ],
 "metadata": {
  "kernelspec": {
   "display_name": "Python 3",
   "language": "python",
   "name": "python3"
  },
  "language_info": {
   "codemirror_mode": {
    "name": "ipython",
    "version": 3
   },
   "file_extension": ".py",
   "mimetype": "text/x-python",
   "name": "python",
   "nbconvert_exporter": "python",
   "pygments_lexer": "ipython3",
   "version": "3.7.3"
  }
 },
 "nbformat": 4,
 "nbformat_minor": 2
}
