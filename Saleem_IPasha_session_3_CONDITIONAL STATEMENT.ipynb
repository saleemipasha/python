{
 "cells": [
  {
   "cell_type": "markdown",
   "metadata": {},
   "source": [
    "# SALEEM SESSION 3"
   ]
  },
  {
   "cell_type": "markdown",
   "metadata": {},
   "source": [
    "CONDITIONAL STATEMENT"
   ]
  },
  {
   "cell_type": "markdown",
   "metadata": {},
   "source": [
    "Immutable : int , float , str , tuple\n",
    "    \n",
    "Mutable : list , dict , set"
   ]
  },
  {
   "cell_type": "markdown",
   "metadata": {},
   "source": [
    "Conditional Statements if elif else"
   ]
  },
  {
   "cell_type": "markdown",
   "metadata": {},
   "source": [
    "SYNTAX"
   ]
  },
  {
   "cell_type": "code",
   "execution_count": null,
   "metadata": {},
   "outputs": [],
   "source": [
    "if test statement:\n",
    "    statement(s)"
   ]
  },
  {
   "cell_type": "code",
   "execution_count": null,
   "metadata": {},
   "outputs": [],
   "source": [
    "if [condition]:\n",
    "    print(\"statement\")\n",
    "elif [condition]:\n",
    "    print(\"statement\")\n",
    "else :\n",
    "    print(\"statement\")"
   ]
  },
  {
   "cell_type": "markdown",
   "metadata": {},
   "source": [
    "In python [zero/none/false]  is taken as false "
   ]
  },
  {
   "cell_type": "code",
   "execution_count": 2,
   "metadata": {},
   "outputs": [
    {
     "name": "stdout",
     "output_type": "stream",
     "text": [
      "this will print always\n"
     ]
    }
   ],
   "source": [
    "num = 10\n",
    "num1 = 11\n",
    "if num > num1:\n",
    "    print(\"Number is positive\")\n",
    "else:\n",
    "    print(\"this will print always\")"
   ]
  },
  {
   "cell_type": "code",
   "execution_count": 75,
   "metadata": {},
   "outputs": [
    {
     "name": "stdout",
     "output_type": "stream",
     "text": [
      "A2 is greater than A1\n"
     ]
    }
   ],
   "source": [
    "A1 = 50\n",
    "A2 = 51\n",
    "\n",
    "if A1 > A2 :\n",
    "    print(\"A1 is greater than A2\")\n",
    "elif A1 < A2 :\n",
    "    print(\"A2 is greater than A1\")\n",
    "else :\n",
    "    print(\"both are in equal\")"
   ]
  },
  {
   "cell_type": "code",
   "execution_count": 76,
   "metadata": {},
   "outputs": [
    {
     "name": "stdout",
     "output_type": "stream",
     "text": [
      "11\n"
     ]
    }
   ],
   "source": [
    "#finding lenth of data\n",
    "l=[1,2,3,4,5,6,7,8,9,0,0]\n",
    "print(len(l))"
   ]
  },
  {
   "cell_type": "code",
   "execution_count": 83,
   "metadata": {},
   "outputs": [
    {
     "name": "stdout",
     "output_type": "stream",
     "text": [
      "enter the student marks: 450\n",
      "percentage =  90.0\n",
      "student is distinction\n"
     ]
    }
   ],
   "source": [
    "total_marks = 500\n",
    "\n",
    "firstt = int(input(\"enter the student marks: \"))\n",
    "\n",
    "perc =(firstt/total_marks)*100\n",
    "print(\"percentage = \",perc)\n",
    "    \n",
    "if perc >= 85 :\n",
    "        print (\"student is distinction\")\n",
    "elif perc >= 60:\n",
    "        print(\"student is first class\")\n",
    "elif perc >=35:\n",
    "    print(\"student is second class\")\n",
    "else:\n",
    "        print (\"student is FAIL\")"
   ]
  },
  {
   "cell_type": "code",
   "execution_count": 4,
   "metadata": {},
   "outputs": [
    {
     "name": "stdout",
     "output_type": "stream",
     "text": [
      "not present\n"
     ]
    }
   ],
   "source": [
    "char = 'z'\n",
    "\n",
    "if char in 'aeiou':\n",
    "    print(\"present\")\n",
    "else:\n",
    "    print(\"not present\")"
   ]
  },
  {
   "cell_type": "code",
   "execution_count": 4,
   "metadata": {},
   "outputs": [
    {
     "name": "stdout",
     "output_type": "stream",
     "text": [
      "4    <class 'list'>\n"
     ]
    }
   ],
   "source": [
    "#finding lenth of data\n",
    "l=[1,2,34,4]\n",
    "print(len(l),\"  \",type(l))"
   ]
  },
  {
   "cell_type": "code",
   "execution_count": 7,
   "metadata": {},
   "outputs": [
    {
     "name": "stdout",
     "output_type": "stream",
     "text": [
      "[1, 2, 34, 4] 4 2869870422152 <class 'list'>\n"
     ]
    }
   ],
   "source": [
    "l=[1,2,34,4]\n",
    "print(l,len(l),id(l),type(l))"
   ]
  },
  {
   "cell_type": "code",
   "execution_count": 8,
   "metadata": {},
   "outputs": [
    {
     "name": "stdout",
     "output_type": "stream",
     "text": [
      "6\n"
     ]
    }
   ],
   "source": [
    "n1 = 13\n",
    "a = n1 // 2\n",
    "print(a)"
   ]
  },
  {
   "cell_type": "code",
   "execution_count": 9,
   "metadata": {},
   "outputs": [
    {
     "name": "stdout",
     "output_type": "stream",
     "text": [
      "ENTER THE AMOUNT =  5555\n",
      "notes of 2000 are  2\n",
      "notes of 500 are  3\n",
      "can not isuue notes of 200\n",
      "can not isuue notes of 100\n",
      "notes of 50 are  1\n",
      "can not isuue notes of 10\n"
     ]
    }
   ],
   "source": [
    "amount = int(input(\"ENTER THE AMOUNT =  \"))\n",
    "if amount >= 2000 :\n",
    "    print(\"notes of 2000 are \",amount // 2000)\n",
    "    amount = amount % 2000\n",
    "else :\n",
    "    print(\"can not isuue notes of 2000\")\n",
    "if amount >= 500 :\n",
    "    print(\"notes of 500 are \",amount // 500)\n",
    "    amount = amount % 500\n",
    "else :\n",
    "    print(\"can not isuue notes of 500\")\n",
    "if amount >= 200 :\n",
    "    print(\"notes of 200 are \",amount // 200)\n",
    "    amount = amount % 200\n",
    "else :\n",
    "    print(\"can not isuue notes of 200\")\n",
    "if amount >= 100 :\n",
    "    print(\"notes of 100 are \",amount // 100)\n",
    "    amount = amount % 100\n",
    "else :\n",
    "    print(\"can not isuue notes of 100\")\n",
    "if amount >= 50 :\n",
    "    print(\"notes of 50 are \",amount // 50)\n",
    "    amount = amount % 50\n",
    "else :\n",
    "    print(\"can not isuue notes of 50\")\n",
    "if amount >= 10 :\n",
    "    print(\"notes of 10 are \",amount // 10)\n",
    "    amount = amount % 10\n",
    "else :\n",
    "    print(\"can not isuue notes of 10\")"
   ]
  },
  {
   "cell_type": "code",
   "execution_count": 12,
   "metadata": {},
   "outputs": [
    {
     "name": "stdout",
     "output_type": "stream",
     "text": [
      "Notes of 2000 are 2\n"
     ]
    }
   ],
   "source": [
    "amount = 5560\n",
    "if amount >= 2000:\n",
    "    print(\"Notes of 2000 are\", amount // 2000)"
   ]
  },
  {
   "cell_type": "code",
   "execution_count": 13,
   "metadata": {},
   "outputs": [
    {
     "name": "stdout",
     "output_type": "stream",
     "text": [
      "Can not issue notes of 2000\n"
     ]
    }
   ],
   "source": [
    "amount = 1999 \n",
    "if amount >= 2000:\n",
    "    print(\"Notes of 2000 are\", amount // 2000)\n",
    "    amount = amount %n2000\n",
    "else:\n",
    "    print(\"Can not issue notes of 2000\")"
   ]
  },
  {
   "cell_type": "code",
   "execution_count": 14,
   "metadata": {},
   "outputs": [
    {
     "name": "stdout",
     "output_type": "stream",
     "text": [
      "Can not issue notes of 2000\n",
      "Notes of 500 are 3\n",
      "Notes of 100 are 4\n",
      "Notes of 50 are 1\n",
      "Notes of 10 are 4\n"
     ]
    }
   ],
   "source": [
    "amount = 1999\n",
    "if amount >= 2000:\n",
    "    print(\"Notes of 2000 are\", amount // 2000)\n",
    "    amount = amount % 2000\n",
    "else:\n",
    "    print(\"Can not issue notes of 2000\")\n",
    "    \n",
    "if amount >= 500:\n",
    "    print(\"Notes of 500 are\", amount // 500)\n",
    "    amount = amount % 500\n",
    "else:\n",
    "    print(\"Can not issue notes of 500\")\n",
    "    \n",
    "if amount >= 100:\n",
    "    print(\"Notes of 100 are\", amount // 100)\n",
    "    amount = amount % 100\n",
    "else:\n",
    "    print(\"Can not issue notes of 100\")\n",
    "    \n",
    "if amount >= 50:\n",
    "    print(\"Notes of 50 are\", amount // 50)\n",
    "    amount = amount % 50\n",
    "else:\n",
    "    print(\"Can not issue notes of 50\")\n",
    "    \n",
    "if amount >= 10:\n",
    "    print(\"Notes of 10 are\", amount // 10)\n",
    "    amount = amount % 10\n",
    "else:\n",
    "    print(\"Can not issue notes of 10\")"
   ]
  },
  {
   "cell_type": "code",
   "execution_count": 10,
   "metadata": {},
   "outputs": [
    {
     "name": "stdout",
     "output_type": "stream",
     "text": [
      "40\n",
      "1040\n"
     ]
    }
   ],
   "source": [
    "rating =4\n",
    "bill_amount = 1000\n",
    "tip = rating * 10\n",
    "total_amount = bill_amount + tip\n",
    "print(tip)\n",
    "print(total_amount)"
   ]
  },
  {
   "cell_type": "code",
   "execution_count": 11,
   "metadata": {},
   "outputs": [
    {
     "name": "stdout",
     "output_type": "stream",
     "text": [
      "PYTHON IS GOOD\n"
     ]
    }
   ],
   "source": [
    "if \"PYTHON\" > \"JAVA\" :\n",
    "    print(\"PYTHON IS GOOD\")\n",
    "else :\n",
    "    print(\"JAVA IS GOOD\")"
   ]
  },
  {
   "cell_type": "markdown",
   "metadata": {},
   "source": [
    "Any non zero value is True in Python\n",
    "Any zero value is False in Python like 0 , None , [] , () , {}"
   ]
  },
  {
   "cell_type": "code",
   "execution_count": null,
   "metadata": {},
   "outputs": [],
   "source": [
    "WHILE LOOP"
   ]
  },
  {
   "cell_type": "code",
   "execution_count": null,
   "metadata": {},
   "outputs": [],
   "source": [
    "SYNTAX \n",
    "            while test_expression:\n",
    "                    body of while"
   ]
  },
  {
   "cell_type": "code",
   "execution_count": 11,
   "metadata": {},
   "outputs": [
    {
     "name": "stdout",
     "output_type": "stream",
     "text": [
      "product is :240000\n"
     ]
    }
   ],
   "source": [
    "num = [10,20,30,40]\n",
    "product = 1\n",
    "index = 0\n",
    "while index < len(num):\n",
    "    product *= num[index]\n",
    "    index += 1\n",
    "print(\"product is :{}\".format(product))"
   ]
  },
  {
   "cell_type": "markdown",
   "metadata": {},
   "source": [
    "CODE PALINDROME OR NOT"
   ]
  },
  {
   "cell_type": "code",
   "execution_count": 1,
   "metadata": {},
   "outputs": [
    {
     "name": "stdout",
     "output_type": "stream",
     "text": [
      "enter the string: SALEEM\n",
      "SALEEM is not palindrome\n"
     ]
    }
   ],
   "source": [
    "name = input(\"enter the string: \")\n",
    "rev_name = name[::-1]\n",
    "if rev_name == name:\n",
    "    print(name, \"is palindome\")\n",
    "else:\n",
    "    print(name, \"is not palindrome\")"
   ]
  },
  {
   "cell_type": "markdown",
   "metadata": {},
   "source": [
    "CODE VOWELS OR NOT"
   ]
  },
  {
   "cell_type": "code",
   "execution_count": 3,
   "metadata": {},
   "outputs": [
    {
     "name": "stdout",
     "output_type": "stream",
     "text": [
      "enter the stringinsta\n",
      "i is vowel in name 1\n",
      "n is consonant in name 1\n",
      "s is consonant in name 1\n",
      "t is consonant in name 1\n",
      "a is vowel in name 1\n"
     ]
    }
   ],
   "source": [
    "name = input(\"enter the string\")\n",
    "v = ['a','e','i','o','u']\n",
    "for i in name:\n",
    "    if i in v:\n",
    "        print(i,\"is vowel in name\", name.count(i))\n",
    "    else:\n",
    "        print(i,\"is consonant in name\", name.count(i))"
   ]
  },
  {
   "cell_type": "code",
   "execution_count": null,
   "metadata": {},
   "outputs": [],
   "source": []
  }
 ],
 "metadata": {
  "kernelspec": {
   "display_name": "Python 3",
   "language": "python",
   "name": "python3"
  },
  "language_info": {
   "codemirror_mode": {
    "name": "ipython",
    "version": 3
   },
   "file_extension": ".py",
   "mimetype": "text/x-python",
   "name": "python",
   "nbconvert_exporter": "python",
   "pygments_lexer": "ipython3",
   "version": "3.7.3"
  }
 },
 "nbformat": 4,
 "nbformat_minor": 2
}
