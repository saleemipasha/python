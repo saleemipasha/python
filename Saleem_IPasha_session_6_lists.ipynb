{
 "cells": [
  {
   "cell_type": "markdown",
   "metadata": {},
   "source": [
    "# SALEEM SESSION 6 LISTS"
   ]
  },
  {
   "cell_type": "markdown",
   "metadata": {},
   "source": [
    "Lists :\n",
    "    mutable : add,update and delete"
   ]
  },
  {
   "cell_type": "code",
   "execution_count": 1,
   "metadata": {},
   "outputs": [
    {
     "name": "stdout",
     "output_type": "stream",
     "text": [
      "10\n",
      "[10, 20, 30, 34]\n",
      "40\n",
      "40\n",
      "edyoda\n"
     ]
    }
   ],
   "source": [
    "l=[10,20,30,40,\"edyoda\",12,34,[10,20,30,34]]\n",
    "print(l[0])\n",
    "print(l[-1])\n",
    "print(l[3])\n",
    "print(l[-5])\n",
    "print(l[4])"
   ]
  },
  {
   "cell_type": "code",
   "execution_count": null,
   "metadata": {},
   "outputs": [],
   "source": [
    "Lists :\n",
    "    - mutable => add update delete\n",
    "    - ordered => any datatype is ordered means it supports indexing and slicing\n",
    "    - hetergenious => means do not have restriction that specify same type of data , it can add int str another list also\n",
    "       [10,20,\"Python\",[100,200,300]]"
   ]
  },
  {
   "cell_type": "code",
   "execution_count": 8,
   "metadata": {},
   "outputs": [
    {
     "name": "stdout",
     "output_type": "stream",
     "text": [
      "34\n",
      "34\n"
     ]
    }
   ],
   "source": [
    "l=[10,20,30,40,\"edyoda\",12,34,[10,20,30,34]]                #we can access in two ways either left ot right\n",
    "print(l[7][3])                                          #indexing starts from 0 ,1,2.....positive\n",
    "print(l[-1][-1])"
   ]
  },
  {
   "cell_type": "code",
   "execution_count": 16,
   "metadata": {},
   "outputs": [
    {
     "name": "stdout",
     "output_type": "stream",
     "text": [
      "[10, 20, 30, 'edyoda', 12, 34, [10, 20, 30, 34, 45, ['name', 12, 34, 44, 55, 66, 45]]]\n",
      "[10, 20, 30, 34, 45, ['name', 12, 34, 44, 55, 66, 45]]\n",
      "45\n",
      "45\n"
     ]
    }
   ],
   "source": [
    "l=[10,20,30,\"edyoda\",12,34,[10,20,30,34,45,[\"name\",12,34,44,55,66,45]]] \n",
    "print(l)\n",
    "print(l[6])\n",
    "print(l[6][-1][-1])\n",
    "print(l[-1][-1][-1])"
   ]
  },
  {
   "cell_type": "code",
   "execution_count": 38,
   "metadata": {},
   "outputs": [
    {
     "name": "stdout",
     "output_type": "stream",
     "text": [
      "[20, 30, 40, 50, [100, 200, 300, 400, 500, [111, 222, 333, 444, 555, 666, 777, 888, 999]]]\n",
      "[999, 888, 777, 666, 555, 444, 333, 222, 111]\n",
      "[111, 222, 333, 444, 555, 666, 777, 888, 999]\n",
      "[111, 222, 333, 444, 555, 666, 777, 888, 999]\n"
     ]
    }
   ],
   "source": [
    "l=[10,20,30,40,50,[100,200,300,400,500,[111,222,333,444,555,666,777,888,999]]]\n",
    "print(l[1:])\n",
    "print(l[-1][-1][-1::-1])\n",
    "print(l[-1][-1][0::1])\n",
    "print(l[5][5][0::1])"
   ]
  },
  {
   "cell_type": "markdown",
   "metadata": {},
   "source": [
    "Add/Update/Delete\n",
    "\n",
    "Add : \n",
    "    append # add only one element either within braces [\" a\",\"[s]\"\"]\n",
    "    \n",
    "    extend #it will add multiple elments within end of list\n",
    "    \n",
    "    insert\n",
    "  "
   ]
  },
  {
   "cell_type": "code",
   "execution_count": 43,
   "metadata": {},
   "outputs": [
    {
     "name": "stdout",
     "output_type": "stream",
     "text": [
      "['JAVA', 'R', 'PYTHON', 'c++', 'C']\n",
      "1219794446024\n"
     ]
    }
   ],
   "source": [
    "l=[\"JAVA\",\"R\",\"PYTHON\"]\n",
    "l.append(\"c++\")\n",
    "l.extend(\"C\")\n",
    "print(l)\n",
    "print(id(l))"
   ]
  },
  {
   "cell_type": "code",
   "execution_count": 44,
   "metadata": {},
   "outputs": [
    {
     "name": "stdout",
     "output_type": "stream",
     "text": [
      "['JAVA', 'PYTHON', 'R', ['C', 'C++']]\n",
      "1219793024008\n"
     ]
    }
   ],
   "source": [
    "l=[\"JAVA\",\"PYTHON\",\"R\"]\n",
    "l.append([\"C\",\"C++\"])\n",
    "print(l)\n",
    "print(id(l))"
   ]
  },
  {
   "cell_type": "code",
   "execution_count": 45,
   "metadata": {},
   "outputs": [
    {
     "name": "stdout",
     "output_type": "stream",
     "text": [
      "['JAVA', 'PYTHON', 'R', 'R', 'C', 'clour', '.com']\n"
     ]
    }
   ],
   "source": [
    "A=[\"JAVA\",\"PYTHON\",\"R\"]\n",
    "A1=(\"R\",\"C\",\"clour\",\".com\")\n",
    "A.extend(A1)\n",
    "print(A)"
   ]
  },
  {
   "cell_type": "code",
   "execution_count": 47,
   "metadata": {},
   "outputs": [
    {
     "name": "stdout",
     "output_type": "stream",
     "text": [
      "5\n"
     ]
    }
   ],
   "source": [
    "S=\"python\"\n",
    "M=S.index(\"n\")\n",
    "print(M)"
   ]
  },
  {
   "cell_type": "code",
   "execution_count": 8,
   "metadata": {},
   "outputs": [
    {
     "ename": "TypeError",
     "evalue": "append() takes exactly one argument (2 given)",
     "output_type": "error",
     "traceback": [
      "\u001b[1;31m---------------------------------------------------------------------------\u001b[0m",
      "\u001b[1;31mTypeError\u001b[0m                                 Traceback (most recent call last)",
      "\u001b[1;32m<ipython-input-8-f3e3159f5ac3>\u001b[0m in \u001b[0;36m<module>\u001b[1;34m\u001b[0m\n\u001b[0;32m      1\u001b[0m \u001b[0ml\u001b[0m \u001b[1;33m=\u001b[0m \u001b[1;33m[\u001b[0m\u001b[1;34m\"Python\"\u001b[0m\u001b[1;33m,\u001b[0m\u001b[1;34m\"c\"\u001b[0m\u001b[1;33m,\u001b[0m\u001b[1;34m\"Java\"\u001b[0m\u001b[1;33m]\u001b[0m\u001b[1;33m\u001b[0m\u001b[1;33m\u001b[0m\u001b[0m\n\u001b[1;32m----> 2\u001b[1;33m \u001b[0ml\u001b[0m\u001b[1;33m.\u001b[0m\u001b[0mappend\u001b[0m\u001b[1;33m(\u001b[0m\u001b[1;34m\"c++\"\u001b[0m\u001b[1;33m,\u001b[0m\u001b[1;34m\"r\"\u001b[0m\u001b[1;33m)\u001b[0m \u001b[1;31m#append does not allow multiple elements\u001b[0m\u001b[1;33m\u001b[0m\u001b[1;33m\u001b[0m\u001b[0m\n\u001b[0m\u001b[0;32m      3\u001b[0m \u001b[0mprint\u001b[0m\u001b[1;33m(\u001b[0m\u001b[0ml\u001b[0m\u001b[1;33m)\u001b[0m\u001b[1;33m\u001b[0m\u001b[1;33m\u001b[0m\u001b[0m\n",
      "\u001b[1;31mTypeError\u001b[0m: append() takes exactly one argument (2 given)"
     ]
    }
   ],
   "source": [
    "l = [\"Python\",\"c\",\"Java\"]\n",
    "l.append(\"c++\",\"r\") #append does not allow multiple elements\n",
    "print(l)"
   ]
  },
  {
   "cell_type": "code",
   "execution_count": 9,
   "metadata": {},
   "outputs": [
    {
     "name": "stdout",
     "output_type": "stream",
     "text": [
      "['Python', 'c', 'Java', ['c++', 'R']]\n"
     ]
    }
   ],
   "source": [
    "l = [\"Python\",\"c\",\"Java\"]\n",
    "l.append([\"c++\",\"R\"])\n",
    "print(l)"
   ]
  },
  {
   "cell_type": "code",
   "execution_count": 10,
   "metadata": {},
   "outputs": [
    {
     "ename": "TypeError",
     "evalue": "'str' object cannot be interpreted as an integer",
     "output_type": "error",
     "traceback": [
      "\u001b[1;31m---------------------------------------------------------------------------\u001b[0m",
      "\u001b[1;31mTypeError\u001b[0m                                 Traceback (most recent call last)",
      "\u001b[1;32m<ipython-input-10-348123966f62>\u001b[0m in \u001b[0;36m<module>\u001b[1;34m\u001b[0m\n\u001b[1;32m----> 1\u001b[1;33m \u001b[0mprint\u001b[0m\u001b[1;33m(\u001b[0m\u001b[0mrange\u001b[0m\u001b[1;33m(\u001b[0m\u001b[1;34m'a'\u001b[0m\u001b[1;33m,\u001b[0m\u001b[1;34m'z'\u001b[0m\u001b[1;33m)\u001b[0m\u001b[1;33m)\u001b[0m \u001b[1;31m# Range allows only integers not char\u001b[0m\u001b[1;33m\u001b[0m\u001b[1;33m\u001b[0m\u001b[0m\n\u001b[0m",
      "\u001b[1;31mTypeError\u001b[0m: 'str' object cannot be interpreted as an integer"
     ]
    }
   ],
   "source": [
    "print(range('a','z')) # Range allows only integers not char"
   ]
  },
  {
   "cell_type": "code",
   "execution_count": null,
   "metadata": {},
   "outputs": [],
   "source": [
    "ord => gives the ascii values\n",
    "chr => gives the char # Opposite of ord"
   ]
  },
  {
   "cell_type": "code",
   "execution_count": 11,
   "metadata": {},
   "outputs": [
    {
     "name": "stdout",
     "output_type": "stream",
     "text": [
      "97 122\n",
      "65 90\n"
     ]
    }
   ],
   "source": [
    "print(ord('a'),ord('z'))\n",
    "print(ord('A'),ord('Z'))"
   ]
  },
  {
   "cell_type": "code",
   "execution_count": 12,
   "metadata": {},
   "outputs": [
    {
     "name": "stdout",
     "output_type": "stream",
     "text": [
      "a z\n",
      "A Z\n"
     ]
    }
   ],
   "source": [
    "print(chr(97),chr(122))\n",
    "print(chr(65),chr(90))"
   ]
  },
  {
   "cell_type": "code",
   "execution_count": 7,
   "metadata": {},
   "outputs": [
    {
     "name": "stdout",
     "output_type": "stream",
     "text": [
      "65\n",
      "A\n",
      "66\n",
      "B\n",
      "67\n",
      "C\n",
      "68\n",
      "D\n",
      "69\n",
      "E\n",
      "70\n",
      "F\n",
      "71\n",
      "G\n",
      "72\n",
      "H\n",
      "73\n",
      "I\n",
      "74\n",
      "J\n",
      "75\n",
      "K\n",
      "76\n",
      "L\n",
      "77\n",
      "M\n",
      "78\n",
      "N\n",
      "79\n",
      "O\n",
      "80\n",
      "P\n",
      "81\n",
      "Q\n",
      "82\n",
      "R\n",
      "83\n",
      "S\n",
      "84\n",
      "T\n",
      "85\n",
      "U\n",
      "86\n",
      "V\n",
      "87\n",
      "W\n",
      "88\n",
      "X\n",
      "89\n",
      "Y\n",
      "90\n",
      "Z\n"
     ]
    }
   ],
   "source": [
    "a=[]\n",
    "start ='A'\n",
    "end = 'Z'\n",
    "for value in range(ord(start),ord(end)+1) :\n",
    "    print(value)\n",
    "    print(chr(value))"
   ]
  },
  {
   "cell_type": "code",
   "execution_count": 53,
   "metadata": {},
   "outputs": [
    {
     "name": "stdout",
     "output_type": "stream",
     "text": [
      "[1, 2, 3, 4, 5, 6, 7, 8, 9, 0]\n"
     ]
    }
   ],
   "source": [
    "l1=[[1,2,3],[4,5,6],[7,8,9,0]]\n",
    "l2 = [ ]\n",
    "for value in l1 :\n",
    "    l2.extend(value)\n",
    "print(l2)"
   ]
  },
  {
   "cell_type": "code",
   "execution_count": 54,
   "metadata": {},
   "outputs": [
    {
     "name": "stdout",
     "output_type": "stream",
     "text": [
      "[[1, 2, 3], [4, 5, 6], [7, 8, 9]]\n"
     ]
    }
   ],
   "source": [
    "l1=[[1,2,3],[4,5,6],[7,8,9]]\n",
    "l2 = [ ]\n",
    "for value in l1 :\n",
    "    l2.append(value)\n",
    "print(l2)"
   ]
  },
  {
   "cell_type": "code",
   "execution_count": 55,
   "metadata": {},
   "outputs": [
    {
     "name": "stdout",
     "output_type": "stream",
     "text": [
      "[1, 2, 3, 4, 5, 6, 7, 8, 9, 10, 11, 12, 10, 20, 30, 40, 50, 60, 70, 80, 90, 100, 110, 120, 111, 222, 333, 444, 555, 666, 777, 888, 999]\n"
     ]
    }
   ],
   "source": [
    "l1=[[1,2,3],[4,5,6],[7,8,9],[10,11,12]]\n",
    "l2 = [[10,20,30],[40,50,60],[70,80,90],[100,110,120]]\n",
    "l3 = [[111,222,333],[444,555,666],[777,888,999]]\n",
    "l4 =[]\n",
    "l5=[]\n",
    "for value in l1 :\n",
    "    l4.append(value)\n",
    "for value in l2 :\n",
    "    l4.append(value)\n",
    "for value in l3 :\n",
    "    l4.append(value)\n",
    "for value in l4:\n",
    "    l5.extend(value)\n",
    "print(l5)"
   ]
  },
  {
   "cell_type": "code",
   "execution_count": 60,
   "metadata": {},
   "outputs": [
    {
     "name": "stdout",
     "output_type": "stream",
     "text": [
      "1\n",
      "z\n",
      "a\n"
     ]
    }
   ],
   "source": [
    "s=\"sdgfhgrajferjfbrjzhfgrjfrjkfhjgbjhssssssssfgekrtrhjdfuwedhwejf\"\n",
    "print(s.count(s))\n",
    "print(max(s))\n",
    "print(min(s))"
   ]
  },
  {
   "cell_type": "code",
   "execution_count": 65,
   "metadata": {},
   "outputs": [
    {
     "name": "stdout",
     "output_type": "stream",
     "text": [
      "[1, 2, 3, 4, 5, 6, 7, 8, 9, 11]\n"
     ]
    }
   ],
   "source": [
    "l = [1,2,3,4,5,6,7,8,9,]\n",
    "l.insert(10,11)    #insert takes only two arguments not more thn 3\n",
    "print(l)"
   ]
  },
  {
   "cell_type": "code",
   "execution_count": 66,
   "metadata": {},
   "outputs": [
    {
     "name": "stdout",
     "output_type": "stream",
     "text": [
      "[100, 200, 300, 500]\n"
     ]
    }
   ],
   "source": [
    "l = [100,200,300,400]\n",
    "l[3] = 500              \n",
    "print(l)"
   ]
  },
  {
   "cell_type": "code",
   "execution_count": 70,
   "metadata": {},
   "outputs": [
    {
     "name": "stdout",
     "output_type": "stream",
     "text": [
      "[1, 2, 3, 4, 6]\n"
     ]
    }
   ],
   "source": [
    "l = [1,2,3,4,5,6]\n",
    "r=l.pop(4) \n",
    "print(l)"
   ]
  },
  {
   "cell_type": "code",
   "execution_count": 68,
   "metadata": {},
   "outputs": [
    {
     "name": "stdout",
     "output_type": "stream",
     "text": [
      "[1, 3, 4, 5, 6]\n"
     ]
    }
   ],
   "source": [
    "l = [1,2,3,4,5,6]\n",
    "l.remove(2)\n",
    "print(l)"
   ]
  },
  {
   "cell_type": "code",
   "execution_count": 71,
   "metadata": {},
   "outputs": [
    {
     "name": "stdout",
     "output_type": "stream",
     "text": [
      "[]\n"
     ]
    }
   ],
   "source": [
    "l = [1,2,3,4,5,6]\n",
    "l.clear()\n",
    "print(l)"
   ]
  },
  {
   "cell_type": "code",
   "execution_count": 72,
   "metadata": {},
   "outputs": [
    {
     "name": "stdout",
     "output_type": "stream",
     "text": [
      "['__add__', '__class__', '__contains__', '__delattr__', '__delitem__', '__dir__', '__doc__', '__eq__', '__format__', '__ge__', '__getattribute__', '__getitem__', '__gt__', '__hash__', '__iadd__', '__imul__', '__init__', '__init_subclass__', '__iter__', '__le__', '__len__', '__lt__', '__mul__', '__ne__', '__new__', '__reduce__', '__reduce_ex__', '__repr__', '__reversed__', '__rmul__', '__setattr__', '__setitem__', '__sizeof__', '__str__', '__subclasshook__', 'append', 'clear', 'copy', 'count', 'extend', 'index', 'insert', 'pop', 'remove', 'reverse', 'sort']\n"
     ]
    }
   ],
   "source": [
    "print(dir(list))"
   ]
  },
  {
   "cell_type": "markdown",
   "metadata": {},
   "source": [
    "SORTING"
   ]
  },
  {
   "cell_type": "code",
   "execution_count": 73,
   "metadata": {},
   "outputs": [
    {
     "name": "stdout",
     "output_type": "stream",
     "text": [
      "[1, 4, 5, 6, 7, 10, 20, 23, 30, 33, 40, 44, 56, 99]\n"
     ]
    }
   ],
   "source": [
    "S1 =[10,20,30,40,56,4,6,7,1,5,44,99,33,23]\n",
    "S1.sort()\n",
    "print(S1)                        "
   ]
  },
  {
   "cell_type": "code",
   "execution_count": 75,
   "metadata": {},
   "outputs": [
    {
     "name": "stdout",
     "output_type": "stream",
     "text": [
      "[80, 70, 60, 50, 40, 30, 20, 10]\n"
     ]
    }
   ],
   "source": [
    "S1 =[10,20,30,40,50,60,70,80]\n",
    "S1.sort(reverse=True)\n",
    "print(S1) "
   ]
  },
  {
   "cell_type": "markdown",
   "metadata": {},
   "source": [
    "index COUNTING"
   ]
  },
  {
   "cell_type": "code",
   "execution_count": 79,
   "metadata": {},
   "outputs": [
    {
     "name": "stdout",
     "output_type": "stream",
     "text": [
      "4\n",
      "3\n"
     ]
    }
   ],
   "source": [
    "l =[10,20,30,40,50,60,70,40,40]\n",
    "print(l.index(50))\n",
    "print(l.count(40))"
   ]
  },
  {
   "cell_type": "code",
   "execution_count": 82,
   "metadata": {},
   "outputs": [
    {
     "name": "stdout",
     "output_type": "stream",
     "text": [
      "[10, 20, 40, 50, 60, 30]\n"
     ]
    }
   ],
   "source": [
    "S1=[10,20,40,50,60]\n",
    "S2 = [10,20,30]\n",
    "S1.append(30)\n",
    "print(S1)"
   ]
  },
  {
   "cell_type": "code",
   "execution_count": 84,
   "metadata": {},
   "outputs": [
    {
     "name": "stdout",
     "output_type": "stream",
     "text": [
      "1219794498056 1219794498056\n",
      "[10, 20, 30, 40] [10, 20, 30, 40]\n"
     ]
    }
   ],
   "source": [
    "l1=[10,20,30]\n",
    "l2=l1\n",
    "print(id(l1),id(l2))\n",
    "l1.append(40)\n",
    "print(l1,l2)"
   ]
  },
  {
   "cell_type": "code",
   "execution_count": 85,
   "metadata": {},
   "outputs": [
    {
     "name": "stdout",
     "output_type": "stream",
     "text": [
      "[10, 20, 30, 40, 50, 60, 70, 80, 90, 100, 200, 300, 400]\n"
     ]
    }
   ],
   "source": [
    "l1=[10,20,30,40,50,60,70,80,90]\n",
    "l2 =[100,200,300,400]\n",
    "l3=l1+l2\n",
    "print(l3)"
   ]
  },
  {
   "cell_type": "code",
   "execution_count": 87,
   "metadata": {},
   "outputs": [
    {
     "name": "stdout",
     "output_type": "stream",
     "text": [
      "[10, 20, 30, 40, 50, 60, 70, 80, 90, 100, 200, 300, 400]\n",
      "[10, 20, 30, 40, 50, 60, 70, 80, 90, 100, 200, 300, 400]\n"
     ]
    }
   ],
   "source": [
    "l1=[10,20,30,40,50,60,70,80,90]\n",
    "l2 =[100,200,300,400]\n",
    "l3 =[]\n",
    "l1.extend(l2)\n",
    "print(l1)\n",
    "for value in l1 :\n",
    "    if value not in l3 :\n",
    "        l3.append(value)\n",
    "print(l3)"
   ]
  },
  {
   "cell_type": "code",
   "execution_count": null,
   "metadata": {},
   "outputs": [],
   "source": [
    "overview :\n",
    "\n",
    "Methods for Add:\n",
    "    append\n",
    "    extend\n",
    "    insert\n",
    "    \n",
    "Update :\n",
    "    l[index = new_value]\n",
    "    \n",
    "Delete :\n",
    "    pop => index , last element\n",
    "    remove => value\n",
    "    clear\n",
    "    del"
   ]
  }
 ],
 "metadata": {
  "kernelspec": {
   "display_name": "Python 3",
   "language": "python",
   "name": "python3"
  },
  "language_info": {
   "codemirror_mode": {
    "name": "ipython",
    "version": 3
   },
   "file_extension": ".py",
   "mimetype": "text/x-python",
   "name": "python",
   "nbconvert_exporter": "python",
   "pygments_lexer": "ipython3",
   "version": "3.7.3"
  }
 },
 "nbformat": 4,
 "nbformat_minor": 2
}
