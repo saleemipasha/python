{
 "cells": [
  {
   "cell_type": "markdown",
   "metadata": {},
   "source": [
    "# Saleem IPasha session 24 problem solving"
   ]
  },
  {
   "cell_type": "code",
   "execution_count": null,
   "metadata": {},
   "outputs": [],
   "source": [
    "Problem 1 In a normal supermarket, things are identified using Stock Keeping Units,. In our store, we’ll use individual letters of the alphabet (A, B, C, and so on). Our goods are priced individually. In addition, some items are multipriced: buy n of them, and they’ll cost you y Rs. For example, item ‘A’ might cost 50 Rs individually, but this week we have a special offer: buy three ‘A’s and they’ll cost you 120Rs. In fact this week’s prices are:\n",
    "\n",
    "Item Unit Special Price Price A 50 3 for 120 B 30 2 for 45 C 20 D 15\n",
    "\n",
    "Our checkout accepts items in any order, so that if we scan a B, an A, and another B, we’ll recognize the two B’s and price them at 45 . Because the pricing changes frequently, we need to be able to pass in a set of pricing rules each time we start handling a checkout transaction."
   ]
  },
  {
   "cell_type": "code",
   "execution_count": null,
   "metadata": {},
   "outputs": [],
   "source": [
    "Product:\n",
    "    name\n",
    "    unit_price\n",
    "    count \n",
    "    \n",
    "    update_count\n",
    "    check_availability\n",
    "    \n",
    "    add_offer\n",
    "    remove_offer\n",
    "    \n",
    "Offer\n",
    "   quantity\n",
    "   price   \n",
    "\n",
    "    \n",
    "Customer \n",
    "    name\n",
    "    email \n",
    "    \n",
    "    add_product_cart\n",
    "    remove_product_cart\n",
    "    view_cart\n",
    "    request_bill\n",
    "    \n",
    "Supermarket:\n",
    "    cal_bill\n",
    "    \n",
    "Admin:\n",
    "    add_product\n",
    "    update_unit_price"
   ]
  },
  {
   "cell_type": "code",
   "execution_count": null,
   "metadata": {},
   "outputs": [],
   "source": [
    "x,y = (10,20)"
   ]
  },
  {
   "cell_type": "code",
   "execution_count": 1,
   "metadata": {},
   "outputs": [],
   "source": [
    "\n",
    "class SuperMarket:\n",
    "    \n",
    "    @classmethod\n",
    "    def cal_bill(cls,cart):\n",
    "        bill_amount = 0\n",
    "        for prod,quantity in cart:\n",
    "            bill_amount += prod.unit_price * quantity\n",
    "\n",
    "        return bill_amount\n",
    "\n",
    "class Product:\n",
    "    def __init__(self,name,u_price,count):\n",
    "        self.p_name = name\n",
    "        self.unit_price = u_price\n",
    "        self.count = count\n",
    "        \n",
    "    def update_count(self,updated_count):\n",
    "        self.count = updated_count\n",
    "        \n",
    "    def is_available(self,req_quantity):\n",
    "        if self.count > req_quantity:\n",
    "            return True\n",
    "        else:\n",
    "            return False\n",
    "        \n",
    "class Customer:\n",
    "    def __init__(self,name,email):\n",
    "        self.name = name\n",
    "        self.email = email\n",
    "        self.cart = []\n",
    "    \n",
    "    def add_to_cart(self,product,quantity):\n",
    "        if product.is_available(quantity):\n",
    "            self.cart.append((product,quantity))\n",
    "            return True\n",
    "        else:\n",
    "            return False\n",
    "        \n",
    "    def remove_from_cart(self,product,updated_count):\n",
    "        \n",
    "        for index,item in enumerate(self.cart):\n",
    "            if item[0] == product:\n",
    "                self.cart.pop(index)\n",
    "                \n",
    "        return self.add_to_cart(product,updated_count)  \n",
    "\n",
    "    def req_bill(self):\n",
    "        return SuperMarket.cal_bill(self.cart)     \n",
    "\n",
    "    \n",
    "        \n",
    "          \n",
    "prod_a = Product(\"A\",50,100)\n",
    "prod_b = Product(\"B\",40,100)\n",
    "prod_c = Product(\"C\",30,100)\n",
    "\n",
    "cust = Customer(\"ABC\",\"abc@gmail.com\")"
   ]
  },
  {
   "cell_type": "code",
   "execution_count": 2,
   "metadata": {},
   "outputs": [
    {
     "data": {
      "text/plain": [
       "True"
      ]
     },
     "execution_count": 2,
     "metadata": {},
     "output_type": "execute_result"
    }
   ],
   "source": [
    "cust.add_to_cart(prod_a,3)\n",
    "cust.add_to_cart(prod_b,2)\n",
    "cust.add_to_cart(prod_a,4)\n",
    "\n",
    "cust.remove_from_cart(prod_a,2)"
   ]
  },
  {
   "cell_type": "code",
   "execution_count": 3,
   "metadata": {},
   "outputs": [
    {
     "name": "stdout",
     "output_type": "stream",
     "text": [
      "[(<__main__.Product object at 0x000001CB15D55C18>, 2), (<__main__.Product object at 0x000001CB15D55A90>, 2)]\n"
     ]
    }
   ],
   "source": [
    "print(cust.cart)"
   ]
  },
  {
   "cell_type": "code",
   "execution_count": 4,
   "metadata": {},
   "outputs": [
    {
     "name": "stdout",
     "output_type": "stream",
     "text": [
      "180\n"
     ]
    }
   ],
   "source": [
    "print(cust.req_bill())"
   ]
  },
  {
   "cell_type": "code",
   "execution_count": 5,
   "metadata": {},
   "outputs": [
    {
     "name": "stdout",
     "output_type": "stream",
     "text": [
      "B 2\n",
      "A 2\n"
     ]
    }
   ],
   "source": [
    "for item in cust.cart:\n",
    "    print(item[0].p_name,item[1])\n",
    "# print(cust.cart)"
   ]
  },
  {
   "cell_type": "code",
   "execution_count": 6,
   "metadata": {},
   "outputs": [
    {
     "name": "stdout",
     "output_type": "stream",
     "text": [
      "{'p_name': 'A', 'unit_price': 50, 'count': 100}\n"
     ]
    }
   ],
   "source": [
    "print(prod_a.__dict__)"
   ]
  },
  {
   "cell_type": "code",
   "execution_count": null,
   "metadata": {},
   "outputs": [],
   "source": [
    "We provide a shopping portal, where dealers can offer their goods (similiar to Amazon market place). We want to support red pencil promotions for reduced prices. During the red pencil promotion the old price is crossed out in red and the new reduced price is written next to it. To avoid misuse of red pencil promotions the red pencil promotions are activated and deactivated automatically.\n",
    "\n",
    "A red pencil promotion starts due to a price reduction. The price has to be reduced by at least 5% but at most bei 30% and the previous price had to be stable for at least 30 days.\n",
    "\n",
    "A red pencil promotion lasts 30 days as the maximum length.\n",
    "\n",
    "If the price is further reduced during the red pencil promotion the promotion will not be prolonged by that reduction.\n",
    "\n",
    "If the price is increased during the red pencil promotion the promotion will be ended immediately.\n",
    "\n",
    "If the price if reduced during the red pencil promotion so that the overall reduction is more than 30% with regard to the original price, the promotion is ended immediately.\n",
    "\n",
    "After a red pencil promotion is ended additional red pencil promotions may follow – as long as the start condition is valid: the price was stable for 30 days and these 30 days don’t intersect with a previous red pencil promotion."
   ]
  }
 ],
 "metadata": {
  "kernelspec": {
   "display_name": "Python 3",
   "language": "python",
   "name": "python3"
  },
  "language_info": {
   "codemirror_mode": {
    "name": "ipython",
    "version": 3
   },
   "file_extension": ".py",
   "mimetype": "text/x-python",
   "name": "python",
   "nbconvert_exporter": "python",
   "pygments_lexer": "ipython3",
   "version": "3.7.3"
  }
 },
 "nbformat": 4,
 "nbformat_minor": 2
}
