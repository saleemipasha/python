{
 "cells": [
  {
   "cell_type": "markdown",
   "metadata": {},
   "source": [
    "# SALEEM SESSION 15 TEXT FILE OPERATION"
   ]
  },
  {
   "cell_type": "code",
   "execution_count": null,
   "metadata": {},
   "outputs": [],
   "source": [
    "Different positional parameter passing techniques :\n",
    "    1. Positinal : the total no of arguments in func def and func calls should be same and mapping will be squential.\n",
    "    2. Default : default value will be passed if the arguement has no values\n",
    "    3. keyword or named : we can pass all the parameters or the selected parameters by specifying the specific keyword.\n",
    "    4. Variable Positional : we wirte it as **args => data type will be tuple\n",
    "    5. Variable keyword : we write it as **kwargs => data type will be dict"
   ]
  },
  {
   "cell_type": "code",
   "execution_count": null,
   "metadata": {},
   "outputs": [],
   "source": [
    "from \n",
    "import"
   ]
  },
  {
   "cell_type": "code",
   "execution_count": null,
   "metadata": {},
   "outputs": [],
   "source": [
    "\"\"\" doc_string\"\"\"\n",
    "\n",
    "def add():\n",
    "    \"\"\"func dsecription\"\"\""
   ]
  },
  {
   "cell_type": "code",
   "execution_count": null,
   "metadata": {},
   "outputs": [],
   "source": [
    "__name__ = '__main__'"
   ]
  },
  {
   "cell_type": "code",
   "execution_count": null,
   "metadata": {},
   "outputs": [],
   "source": [
    "if __name__ == '__main__':"
   ]
  },
  {
   "cell_type": "code",
   "execution_count": null,
   "metadata": {},
   "outputs": [],
   "source": [
    "l = [1,2,3]\n",
    "l.pop(2) => remove on the basis of index\n",
    "l.remove(2) => remove on the basis of value"
   ]
  },
  {
   "cell_type": "code",
   "execution_count": null,
   "metadata": {},
   "outputs": [],
   "source": [
    "d= {}\n",
    "l = [10,20,30]\n",
    "d= {[10,20,30]:3} #cannot add list as key in dict"
   ]
  },
  {
   "cell_type": "code",
   "execution_count": null,
   "metadata": {},
   "outputs": [],
   "source": [
    "rules of dict\n",
    "- all the keys should be unique\n",
    "- all the keys should be immutable"
   ]
  },
  {
   "cell_type": "code",
   "execution_count": null,
   "metadata": {},
   "outputs": [],
   "source": [
    "l1 = [10,20,30]\n",
    "l2 = list(l1) #memory location"
   ]
  },
  {
   "cell_type": "code",
   "execution_count": null,
   "metadata": {},
   "outputs": [],
   "source": [
    "File Operations : TXT files"
   ]
  },
  {
   "cell_type": "code",
   "execution_count": null,
   "metadata": {},
   "outputs": [],
   "source": [
    "Different modes :\n",
    "    r : read\n",
    "    r+ : read + write\n",
    "        \n",
    "    w : write \n",
    "    w+ : write + read\n",
    "        \n",
    "    a : append \n",
    "    a+"
   ]
  },
  {
   "cell_type": "code",
   "execution_count": 25,
   "metadata": {},
   "outputs": [
    {
     "name": "stdout",
     "output_type": "stream",
     "text": [
      "Sample program line1\n",
      "Sample program line2\n",
      "Sample program line3\n",
      "Sample program line4\n",
      "\n"
     ]
    }
   ],
   "source": [
    "fp = open(\"sampled.text\",\"r\")\n",
    "content = fp.read()\n",
    "print(content)\n",
    "\n",
    "content = fp.read()   #if we write 2 times it doesnt create 2 same output\n",
    "print(content)\n",
    "\n",
    "fp.close()"
   ]
  },
  {
   "cell_type": "code",
   "execution_count": 84,
   "metadata": {},
   "outputs": [
    {
     "name": "stdout",
     "output_type": "stream",
     "text": [
      "<class 'str'>\n",
      "\n"
     ]
    }
   ],
   "source": [
    "fp = open(\"sampled.text\",\"r\")\n",
    "content = fp.read()\n",
    "print(type(content))\n",
    "\n",
    "content = fp.read()   #if we write 2 times it doesnt create 2 same output\n",
    "print(content)\n",
    "\n",
    "fp.close()"
   ]
  },
  {
   "cell_type": "code",
   "execution_count": 85,
   "metadata": {},
   "outputs": [
    {
     "name": "stdout",
     "output_type": "stream",
     "text": [
      "Sample program line1\n",
      "Sample pr\n"
     ]
    }
   ],
   "source": [
    "fp = open(\"sampled.text\",\"r\")\n",
    "content = fp.read(30)  #reading the specific no of characters\n",
    "print(content)\n",
    "\n",
    "fp.close()"
   ]
  },
  {
   "cell_type": "code",
   "execution_count": 87,
   "metadata": {},
   "outputs": [
    {
     "name": "stdout",
     "output_type": "stream",
     "text": [
      "Sample progra\n",
      "m line1\n",
      "Sample program \n"
     ]
    }
   ],
   "source": [
    "fp = open(\"sampled.text\",\"r\")\n",
    "content = fp.read(13)  #reading the specific no of characters\n",
    "print(content)\n",
    "\n",
    "content = fp.read(23)  #reading the specific no of characters from the 10\n",
    "print(content)\n",
    "\n",
    "fp.close()"
   ]
  },
  {
   "cell_type": "code",
   "execution_count": 89,
   "metadata": {},
   "outputs": [
    {
     "name": "stdout",
     "output_type": "stream",
     "text": [
      "Sample program line1\n",
      "\n",
      "Sample program line2\n",
      "\n"
     ]
    }
   ],
   "source": [
    "fp = open(\"sampled.text\",\"r\")\n",
    "content = fp.readline()  #reading the line\n",
    "print(content)\n",
    "\n",
    "content = fp.readline()  #reading the next line\n",
    "print(content)\n",
    "\n",
    "fp.close()"
   ]
  },
  {
   "cell_type": "code",
   "execution_count": 91,
   "metadata": {},
   "outputs": [
    {
     "name": "stdout",
     "output_type": "stream",
     "text": [
      "['Sample program line1\\n', 'Sample program line2\\n', 'Sample program line3\\n']\n"
     ]
    }
   ],
   "source": [
    "fp = open(\"sampled.text\",\"r\")\n",
    "content = fp.readlines()#reads everything in one list split on the basis of \\n,we can perform indexing & slicing\n",
    "print(content)\n",
    "fp.close()"
   ]
  },
  {
   "cell_type": "code",
   "execution_count": 34,
   "metadata": {},
   "outputs": [
    {
     "name": "stdout",
     "output_type": "stream",
     "text": [
      "['Sample program line2\\n', 'Sample program line3\\n', 'Sample program line4']\n"
     ]
    }
   ],
   "source": [
    "fp = open(\"sampled.text\",\"r\")\n",
    "content = fp.readlines()#reads everything in one list split on the basis of \\n,we can perform indexing & slicing\n",
    "print(content[1:])\n",
    "\n",
    "fp.close()"
   ]
  },
  {
   "cell_type": "code",
   "execution_count": 36,
   "metadata": {},
   "outputs": [
    {
     "name": "stdout",
     "output_type": "stream",
     "text": [
      "['Sample program line1\\n', 'Sample program line2\\n', 'Sample program line3\\n', 'Sample program line4']\n"
     ]
    }
   ],
   "source": [
    "fp = open(\"sampled.text\",\"r\")\n",
    "content = fp.readlines()#reads everything in one list split on the basis of \\n,we can perform indexing & slicing\n",
    "print(content[0:])\n",
    "\n",
    "fp.close()"
   ]
  },
  {
   "cell_type": "code",
   "execution_count": 37,
   "metadata": {},
   "outputs": [
    {
     "name": "stdout",
     "output_type": "stream",
     "text": [
      "4\n"
     ]
    }
   ],
   "source": [
    "fp = open(\"sampled.text\",\"r\")\n",
    "content = fp.readlines()\n",
    "print(len(content)) #length of list\n",
    "\n",
    "fp.close()"
   ]
  },
  {
   "cell_type": "code",
   "execution_count": null,
   "metadata": {},
   "outputs": [],
   "source": [
    "Read(str) and readlines(list) both brings entire content into memory"
   ]
  },
  {
   "cell_type": "code",
   "execution_count": 40,
   "metadata": {},
   "outputs": [
    {
     "name": "stdout",
     "output_type": "stream",
     "text": [
      "<_io.TextIOWrapper name='sampled.text' mode='r' encoding='cp1252'>\n",
      "<_io.TextIOWrapper name='sampled.text' mode='r' encoding='cp1252'>\n",
      "<_io.TextIOWrapper name='sampled.text' mode='r' encoding='cp1252'>\n",
      "<_io.TextIOWrapper name='sampled.text' mode='r' encoding='cp1252'>\n"
     ]
    }
   ],
   "source": [
    "fp = open(\"sampled.text\",\"r\")\n",
    "# content = fp.readlines()\n",
    "# print(content)\n",
    "\n",
    "for x in fp: #we can for loop in file pointer\n",
    "    print(fp)\n",
    "    \n",
    "fp.close()"
   ]
  },
  {
   "cell_type": "code",
   "execution_count": null,
   "metadata": {},
   "outputs": [],
   "source": [
    "About read mode : In read mode file should be exist before we read.\n",
    "    \n",
    "if we write for loop on str => i will be iterating over individual char\n",
    "if we wrtie for loop on list => i will be iterating over individual elements\n",
    "if we write for loop on dict => i will be iterating defaultly on keys\n",
    "if we want to iterate on both keys and values => we use .items\n",
    "if we use for loop on file pointer every iteration we will get one line at a time"
   ]
  },
  {
   "cell_type": "code",
   "execution_count": null,
   "metadata": {},
   "outputs": [],
   "source": [
    "Write mode :\n",
    "    if doesnt exist it will create a new file automatically."
   ]
  },
  {
   "cell_type": "code",
   "execution_count": 45,
   "metadata": {},
   "outputs": [],
   "source": [
    "fp = open(\"sampled.text\",\"w\") # file will be created automatically in directory after u run\n",
    "fp.write(\"Add this line to sample2.txt\") \n",
    "fp.close()"
   ]
  },
  {
   "cell_type": "code",
   "execution_count": 46,
   "metadata": {},
   "outputs": [],
   "source": [
    "fp = open(\"sampled.text\",\"w\")\n",
    "# old txt will be replaced by new txt automatically in directory after u run and wont return value back will wipeout\n",
    "fp.write(\"trying to write new content on sample2.txt\") \n",
    "fp.close()"
   ]
  },
  {
   "cell_type": "code",
   "execution_count": 82,
   "metadata": {},
   "outputs": [
    {
     "name": "stdout",
     "output_type": "stream",
     "text": [
      "\n"
     ]
    }
   ],
   "source": [
    "fp = open(\"sampled.txt\",\"w+\")\n",
    "fp.write(\"trying to write new content on sample2.txt\") #start and end is written and there ntg left to execute\n",
    "r = fp.read() #here we are saying to read from last position and there is ntg left \n",
    "print(r) \n",
    "fp.close()"
   ]
  },
  {
   "cell_type": "code",
   "execution_count": null,
   "metadata": {},
   "outputs": [],
   "source": [
    "Functions to move file pointer positions :\n",
    "    Python has 2 func\n",
    "    tell() : will give current file pointer position\n",
    "    seek() : seek will help to change the fp position\n",
    "    0 : start of the file\n",
    "    1 : current position\n",
    "    2 : end of the file\n",
    "    seeks take two arrguements \n",
    "        offset : it specifies how many char want to move\n",
    "            seek(15,0) => move from 15 char from start(0) of the position\n",
    "            seek(0,0) => move the fp to start of the file\n",
    "            seek(0,2) => move the file 0 char to end of the position\n",
    "            seek(15,1) Doesnt work in current and end position bcz any offset value works in start position\n",
    "            seek(15,2) doesnt work"
   ]
  },
  {
   "cell_type": "code",
   "execution_count": 49,
   "metadata": {},
   "outputs": [
    {
     "name": "stdout",
     "output_type": "stream",
     "text": [
      "0\n",
      "42\n",
      "42\n",
      "\n"
     ]
    }
   ],
   "source": [
    "fp = open(\"sampled.text\",\"w+\")\n",
    "print(fp.tell())\n",
    "fp.write(\"trying to write new content on sample2.txt\")  \n",
    "print(fp.tell())\n",
    "r = fp.read() \n",
    "print(fp.tell())\n",
    "print(r) \n",
    "fp.close()"
   ]
  },
  {
   "cell_type": "code",
   "execution_count": 50,
   "metadata": {},
   "outputs": [
    {
     "name": "stdout",
     "output_type": "stream",
     "text": [
      "0\n",
      "42\n",
      "42\n",
      "trying to write new content on sample2.txt\n"
     ]
    }
   ],
   "source": [
    "fp = open(\"sampled.text\",\"w+\")\n",
    "print(fp.tell())\n",
    "fp.write(\"trying to write new content on sample2.txt\")  \n",
    "print(fp.tell())\n",
    "fp.seek(0,0) #move fp end to start of the file\n",
    "r = fp.read() \n",
    "print(fp.tell())\n",
    "print(r) \n",
    "fp.close()"
   ]
  },
  {
   "cell_type": "code",
   "execution_count": 51,
   "metadata": {},
   "outputs": [
    {
     "name": "stdout",
     "output_type": "stream",
     "text": [
      "0\n",
      "42\n",
      "0\n",
      "42\n",
      "trying to write new content on sample2.txt\n"
     ]
    }
   ],
   "source": [
    "fp = open(\"sampled.text\",\"w+\")\n",
    "print(fp.tell())\n",
    "fp.write(\"trying to write new content on sample2.txt\")  \n",
    "print(fp.tell())\n",
    "fp.seek(0,0) #move fp from end to start of the file\n",
    "print(fp.tell())\n",
    "r = fp.read() \n",
    "print(fp.tell())\n",
    "print(r) \n",
    "fp.close()"
   ]
  },
  {
   "cell_type": "code",
   "execution_count": null,
   "metadata": {},
   "outputs": [],
   "source": [
    "r+ : read + write \n",
    "    - maintain the old content\n",
    "    - file should be exist earlier\n",
    "w+ : write + read \n",
    "    - wipe out the old content\n",
    "    - if file doesnt exist it creates the new file"
   ]
  },
  {
   "cell_type": "code",
   "execution_count": 66,
   "metadata": {},
   "outputs": [
    {
     "name": "stdout",
     "output_type": "stream",
     "text": [
      "\"AI\" redirects here. For other uses, see AI (disambiguation) and Artificial intelligence (disambiguation).\n",
      "Artificial intelligence\n",
      "Major goals\n",
      "Knowledge reasoning\n",
      "Planning\n",
      "Machine learning\n",
      "Natural language processing\n",
      "Computer vision\n",
      "Robotics\n",
      "Artificial general intelligence\n",
      "Approaches\n",
      "Symbolic\n",
      "Deep learning\n",
      "Bayesian networks\n",
      "Evolutionary algorithms\n",
      "Philosophy\n",
      "Ethics\n",
      "Existential risk\n",
      "Turing test\n",
      "Chinese room\n",
      "Control problem\n",
      "Friendly AI\n",
      "History\n",
      "Timeline\n",
      "Progress\n",
      "AI winter\n",
      "Technology\n",
      "Applications\n",
      "Projects\n",
      "Programming languages\n",
      "Glossary\n",
      "Glossary\n",
      "vte\n",
      "In computer science, artificial intelligence (AI), sometimes called machine intelligence, is intelligence demonstrated by machines, in contrast to the natural intelligence displayed by humans and animals. Leading AI textbooks define the field as the study of \"intelligent agents\": any device that perceives its environment and takes actions that maximize its chance of successfully achieving its goals.[1] Colloquially, the term \"artificial intelligence\" is often used to describe machines (or computers) that mimic \"cognitive\" functions that humans associate with the human mind, such as \"learning\" and \"problem solving\".[2]\n",
      "\n",
      "As machines become increasingly capable, tasks considered to require \"intelligence\" are often removed from the definition of AI, a phenomenon known as the AI effect.[3] A quip in Tesler's Theorem says \"AI is whatever hasn't been done yet.\"[4] For instance, optical character recognition is frequently excluded from things considered to be AI[5] , having become a routine technology.[6] Modern machine capabilities generally classified as AI include successfully understanding human speech,[7] competing at the highest level in strategic game systems (such as chess and Go),[8] autonomously operating cars, intelligent routing in content delivery networks, and military simulations.\n",
      "\n",
      "Artificial intelligence was founded as an academic discipline in 1955, and in the years since has experienced several waves of optimism,[9][10] followed by disappointment and the loss of funding (known as an \"AI winter\"),[11][12] followed by new approaches, success and renewed funding.[10][13] For most of its history, AI research has been divided into subfields that often fail to communicate with each other.[14] These sub-fields are based on technical considerations, such as particular goals (e.g. \"robotics\" or \"machine learning\"),[15] the use of particular tools (\"logic\" or artificial neural networks), or deep philosophical differences.[16][17][18] Subfields have also been based on social factors (particular institutions or the work of particular researchers).[14]\n"
     ]
    },
    {
     "data": {
      "text/plain": [
       "<function TextIOWrapper.close()>"
      ]
     },
     "execution_count": 66,
     "metadata": {},
     "output_type": "execute_result"
    }
   ],
   "source": [
    "fp = open(\"saleem.txt\",\"r+\") \n",
    "content = fp.read()\n",
    "print(content)\n",
    "fp.close"
   ]
  },
  {
   "cell_type": "code",
   "execution_count": 67,
   "metadata": {},
   "outputs": [
    {
     "name": "stdout",
     "output_type": "stream",
     "text": [
      "\"AI\" redirects here. For other uses, see AI (disambiguation) and Artificial intelligence (disambiguation).\n",
      "Artificial intelligence\n",
      "Major goals\n",
      "Knowledge reasoning\n",
      "Planning\n",
      "Machine learning\n",
      "Natural language processing\n",
      "Computer vision\n",
      "Robotics\n",
      "Artificial general intelligence\n",
      "Approaches\n",
      "Symbolic\n",
      "Deep learning\n",
      "Bayesian networks\n",
      "Evolutionary algorithms\n",
      "Philosophy\n",
      "Ethics\n",
      "Existential risk\n",
      "Turing test\n",
      "Chinese room\n",
      "Control problem\n",
      "Friendly AI\n",
      "History\n",
      "Timeline\n",
      "Progress\n",
      "AI winter\n",
      "Technology\n",
      "Applications\n",
      "Projects\n",
      "Programming languages\n",
      "Glossary\n",
      "Glossary\n",
      "vte\n",
      "In computer science, artificial intelligence (AI), sometimes called machine intelligence, is intelligence demonstrated by machines, in contrast to the natural intelligence displayed by humans and animals. Leading AI textbooks define the field as the study of \"intelligent agents\": any device that perceives its environment and takes actions that maximize its chance of successfully achieving its goals.[1] Colloquially, the term \"artificial intelligence\" is often used to describe machines (or computers) that mimic \"cognitive\" functions that humans associate with the human mind, such as \"learning\" and \"problem solving\".[2]\n",
      "\n",
      "As machines become increasingly capable, tasks considered to require \"intelligence\" are often removed from the definition of AI, a phenomenon known as the AI effect.[3] A quip in Tesler's Theorem says \"AI is whatever hasn't been done yet.\"[4] For instance, optical character recognition is frequently excluded from things considered to be AI[5] , having become a routine technology.[6] Modern machine capabilities generally classified as AI include successfully understanding human speech,[7] competing at the highest level in strategic game systems (such as chess and Go),[8] autonomously operating cars, intelligent routing in content delivery networks, and military simulations.\n",
      "\n",
      "Artificial intelligence was founded as an academic discipline in 1955, and in the years since has experienced several waves of optimism,[9][10] followed by disappointment and the loss of funding (known as an \"AI winter\"),[11][12] followed by new approaches, success and renewed funding.[10][13] For most of its history, AI research has been divided into subfields that often fail to communicate with each other.[14] These sub-fields are based on technical considerations, such as particular goals (e.g. \"robotics\" or \"machine learning\"),[15] the use of particular tools (\"logic\" or artificial neural networks), or deep philosophical differences.[16][17][18] Subfields have also been based on social factors (particular institutions or the work of particular researchers).[14]\n"
     ]
    },
    {
     "data": {
      "text/plain": [
       "<function TextIOWrapper.close()>"
      ]
     },
     "execution_count": 67,
     "metadata": {},
     "output_type": "execute_result"
    }
   ],
   "source": [
    "fp = open(\"saleem.txt\",\"r\",encoding = 'utf-8') \n",
    "content = fp.read()\n",
    "print(content)\n",
    "fp.close"
   ]
  },
  {
   "cell_type": "code",
   "execution_count": 68,
   "metadata": {},
   "outputs": [
    {
     "name": "stdout",
     "output_type": "stream",
     "text": [
      "2636\n"
     ]
    }
   ],
   "source": [
    "fp = open(\"saleem.txt\",\"r\") \n",
    "content = fp.read()\n",
    "#print(content)\n",
    "print(fp.tell())\n",
    "fp.close()"
   ]
  },
  {
   "cell_type": "code",
   "execution_count": 71,
   "metadata": {},
   "outputs": [
    {
     "name": "stdout",
     "output_type": "stream",
     "text": [
      "520\n"
     ]
    }
   ],
   "source": [
    "fp = open(\"saleem.txt\",\"r+\") \n",
    "#content = fp.read()\n",
    "#print(content)\n",
    "data = \"\"\"Since the parameters to the left of / are not exposed as possible keywords, the parameters names remain available for use in **kwargs:\n",
    "\n",
    ">>>\n",
    ">>> def f(a, b, /, **kwargs):\n",
    "...     print(a, b, kwargs)\n",
    "...\n",
    ">>> f(10, 20, a=1, b=2, c=3)         # a and b are used in two ways\n",
    "10 20 {'a': 1, 'b': 2, 'c': 3}\n",
    "This greatly simplifies the implementation of functions and methods that need to accept arbitrary keyword arguments. For example, here is an excerpt from code in the collections module:\n",
    "\n",
    "class Counter(dict):\n",
    "\"\"\"\n",
    "fp.write(data)\n",
    "print(fp.tell())\n",
    "fp.close()"
   ]
  },
  {
   "cell_type": "code",
   "execution_count": 72,
   "metadata": {},
   "outputs": [
    {
     "name": "stdout",
     "output_type": "stream",
     "text": [
      "3371\n"
     ]
    }
   ],
   "source": [
    "fp = open(\"saleem.txt\",\"r+\") \n",
    "#content = fp.read()\n",
    "#print(content)\n",
    "fp.seek(0,2)#wiil be added last\n",
    "data = \"\"\"\\n\\n\\n\\n\\n\\n\\n\\n\\n Since the parameters to the left of / are not exposed as possible keywords, the parameters names remain available for use in **kwargs:\n",
    "\n",
    ">>>\n",
    ">>> def f(a, b, /, **kwargs):\n",
    "...     print(a, b, kwargs)\n",
    "...\n",
    ">>> f(10, 20, a=1, b=2, c=3)         # a and b are used in two ways\n",
    "10 20 {'a': 1, 'b': 2, 'c': 3}\n",
    "This greatly simplifies the implementation of functions and methods that need to accept arbitrary keyword arguments. For example, here is an excerpt from code in the collections module:\n",
    "\n",
    "class Counter(dict):\n",
    "\n",
    "    def __init__(self, iterable=None, /, **kwds):\n",
    "        # Note \"iterable\" is a possible keyword argument\n",
    "See PEP 570 for a full description.\n",
    "\n",
    "(Contributed by Pablo Galindo in bpo-36540.)\n",
    "\"\"\"\n",
    "fp.write(data)\n",
    "print(fp.tell())\n",
    "fp.close()"
   ]
  },
  {
   "cell_type": "code",
   "execution_count": null,
   "metadata": {},
   "outputs": [],
   "source": [
    "a = fp will  be started at the last and we can write directly at the end\n",
    "- defaullty we can perform write at the end of the opertaion \n",
    "\n",
    "a+ = fp will  be started at the last and we can write directly\n",
    "- can not perform read operation\n",
    "\n",
    "we can perform read operation only by changing the file pointer position in a+"
   ]
  },
  {
   "cell_type": "code",
   "execution_count": 73,
   "metadata": {},
   "outputs": [
    {
     "name": "stdout",
     "output_type": "stream",
     "text": [
      "3371\n"
     ]
    }
   ],
   "source": [
    "fp = open(\"saleem.txt\",'a')\n",
    "print(fp.tell())\n",
    "fp.close()"
   ]
  },
  {
   "cell_type": "code",
   "execution_count": 75,
   "metadata": {},
   "outputs": [
    {
     "name": "stdout",
     "output_type": "stream",
     "text": [
      "3371\n"
     ]
    }
   ],
   "source": [
    "fp = open(\"saleem.txt\",'a')\n",
    "print(fp.tell())\n",
    "fp.write(\"\\n \\n \\n \\n add seek(15,1) to next release \")\n",
    "fp.close()"
   ]
  },
  {
   "cell_type": "code",
   "execution_count": 77,
   "metadata": {},
   "outputs": [
    {
     "name": "stdout",
     "output_type": "stream",
     "text": [
      "3414\n",
      "Since the parameters to the left of / are not exposed as possible keywords, the parameters names remain available for use in **kwargs:\n",
      "\n",
      ">>>\n",
      ">>> def f(a, b, /, **kwargs):\n",
      "...     print(a, b, kwargs)\n",
      "...\n",
      ">>> f(10, 20, a=1, b=2, c=3)         # a and b are used in two ways\n",
      "10 20 {'a': 1, 'b': 2, 'c': 3}\n",
      "This greatly simplifies the implementation of functions and methods that need to accept arbitrary keyword arguments. For example, here is an excerpt from code in the collections module:\n",
      "\n",
      "class Counter(dict):\n",
      "\n",
      "    def __init__(self, iterable=None, /, **kwds):\n",
      "        # Note \"iterable\" is a possible keyword argument\n",
      "See PEP 570 for a full description.\n",
      "\n",
      "(Contributed by Pablo Galindo in bpo-36540.)\n",
      "igence displayed by humans and animals. Leading AI textbooks define the field as the study of \"intelligent agents\": any device that perceives its environment and takes actions that maximize its chance of successfully achieving its goals.[1] Colloquially, the term \"artificial intelligence\" is often used to describe machines (or computers) that mimic \"cognitive\" functions that humans associate with the human mind, such as \"learning\" and \"problem solving\".[2]\n",
      "\n",
      "As machines become increasingly capable, tasks considered to require \"intelligence\" are often removed from the definition of AI, a phenomenon known as the AI effect.[3] A quip in Tesler's Theorem says \"AI is whatever hasn't been done yet.\"[4] For instance, optical character recognition is frequently excluded from things considered to be AI[5] , having become a routine technology.[6] Modern machine capabilities generally classified as AI include successfully understanding human speech,[7] competing at the highest level in strategic game systems (such as chess and Go),[8] autonomously operating cars, intelligent routing in content delivery networks, and military simulations.\n",
      "\n",
      "Artificial intelligence was founded as an academic discipline in 1955, and in the years since has experienced several waves of optimism,[9][10] followed by disappointment and the loss of funding (known as an \"AI winter\"),[11][12] followed by new approaches, success and renewed funding.[10][13] For most of its history, AI research has been divided into subfields that often fail to communicate with each other.[14] These sub-fields are based on technical considerations, such as particular goals (e.g. \"robotics\" or \"machine learning\"),[15] the use of particular tools (\"logic\" or artificial neural networks), or deep philosophical differences.[16][17][18] Subfields have also been based on social factors (particular institutions or the work of particular researchers).[14]\n",
      "\n",
      "\n",
      "\n",
      "\n",
      "\n",
      "\n",
      "\n",
      "\n",
      " Since the parameters to the left of / are not exposed as possible keywords, the parameters names remain available for use in **kwargs:\n",
      "\n",
      ">>>\n",
      ">>> def f(a, b, /, **kwargs):\n",
      "...     print(a, b, kwargs)\n",
      "...\n",
      ">>> f(10, 20, a=1, b=2, c=3)         # a and b are used in two ways\n",
      "10 20 {'a': 1, 'b': 2, 'c': 3}\n",
      "This greatly simplifies the implementation of functions and methods that need to accept arbitrary keyword arguments. For example, here is an excerpt from code in the collections module:\n",
      "\n",
      "class Counter(dict):\n",
      "\n",
      "    def __init__(self, iterable=None, /, **kwds):\n",
      "        # Note \"iterable\" is a possible keyword argument\n",
      "See PEP 570 for a full description.\n",
      "\n",
      "(Contributed by Pablo Galindo in bpo-36540.)\n",
      "\n",
      " \n",
      " \n",
      " \n",
      " add seek(15,1) to next release \n",
      " \n",
      " \n",
      " \n",
      " add seek(15,1) to next release \n"
     ]
    }
   ],
   "source": [
    "fp = open(\"saleem.txt\",'a+')\n",
    "print(fp.tell())\n",
    "fp.write(\"\\n \\n \\n \\n add seek(15,1) to next release \")\n",
    "fp.seek(0,0)\n",
    "r = fp.read()\n",
    "print(r)\n",
    "fp.close()"
   ]
  },
  {
   "cell_type": "code",
   "execution_count": 79,
   "metadata": {},
   "outputs": [
    {
     "name": "stdout",
     "output_type": "stream",
     "text": [
      "3457\n",
      "Since the parameters to the left of / are not exposed as possible keywords, the parameters names remain available for use in **kwargs:\n",
      "\n",
      ">>>\n",
      ">>> def f(a, b, /, **kwargs):\n",
      "...     print(a, b, kwargs)\n",
      "...\n",
      ">>> f(10, 20, a=1, b=2, c=3)         # a and b are used in two ways\n",
      "10 20 {'a': 1, 'b': 2, 'c': 3}\n",
      "This greatly simplifies the implementation of functions and methods that need to accept arbitrary keyword arguments. For example, here is an excerpt from code in the collections module:\n",
      "\n",
      "class Counter(dict):\n",
      "\n",
      "    def __init__(self, iterable=None, /, **kwds):\n",
      "        # Note \"iterable\" is a possible keyword argument\n",
      "See PEP 570 for a full description.\n",
      "\n",
      "(Contributed by Pablo Galindo in bpo-36540.)\n",
      "igence displayed by humans and animals. Leading AI textbooks define the field as the study of \"intelligent agents\": any device that perceives its environment and takes actions that maximize its chance of successfully achieving its goals.[1] Colloquially, the term \"artificial intelligence\" is often used to describe machines (or computers) that mimic \"cognitive\" functions that humans associate with the human mind, such as \"learning\" and \"problem solving\".[2]\n",
      "\n",
      "As machines become increasingly capable, tasks considered to require \"intelligence\" are often removed from the definition of AI, a phenomenon known as the AI effect.[3] A quip in Tesler's Theorem says \"AI is whatever hasn't been done yet.\"[4] For instance, optical character recognition is frequently excluded from things considered to be AI[5] , having become a routine technology.[6] Modern machine capabilities generally classified as AI include successfully understanding human speech,[7] competing at the highest level in strategic game systems (such as chess and Go),[8] autonomously operating cars, intelligent routing in content delivery networks, and military simulations.\n",
      "\n",
      "Artificial intelligence was founded as an academic discipline in 1955, and in the years since has experienced several waves of optimism,[9][10] followed by disappointment and the loss of funding (known as an \"AI winter\"),[11][12] followed by new approaches, success and renewed funding.[10][13] For most of its history, AI research has been divided into subfields that often fail to communicate with each other.[14] These sub-fields are based on technical considerations, such as particular goals (e.g. \"robotics\" or \"machine learning\"),[15] the use of particular tools (\"logic\" or artificial neural networks), or deep philosophical differences.[16][17][18] Subfields have also been based on social factors (particular institutions or the work of particular researchers).[14]\n",
      "\n",
      "\n",
      "\n",
      "\n",
      "\n",
      "\n",
      "\n",
      "\n",
      " Since the parameters to the left of / are not exposed as possible keywords, the parameters names remain available for use in **kwargs:\n",
      "\n",
      ">>>\n",
      ">>> def f(a, b, /, **kwargs):\n",
      "...     print(a, b, kwargs)\n",
      "...\n",
      ">>> f(10, 20, a=1, b=2, c=3)         # a and b are used in two ways\n",
      "10 20 {'a': 1, 'b': 2, 'c': 3}\n",
      "This greatly simplifies the implementation of functions and methods that need to accept arbitrary keyword arguments. For example, here is an excerpt from code in the collections module:\n",
      "\n",
      "class Counter(dict):\n",
      "\n",
      "    def __init__(self, iterable=None, /, **kwds):\n",
      "        # Note \"iterable\" is a possible keyword argument\n",
      "See PEP 570 for a full description.\n",
      "\n",
      "(Contributed by Pablo Galindo in bpo-36540.)\n",
      "\n",
      " \n",
      " \n",
      " \n",
      " add seek(15,1) to next release \n",
      " \n",
      " \n",
      " \n",
      " add seek(15,1) to next release add seek(15,1) to next release \n",
      " add seek(-15,2) to next release \n",
      " \n"
     ]
    }
   ],
   "source": [
    "fp = open(\"saleem.txt\",'a+')\n",
    "print(fp.tell())\n",
    "fp.writelines([\"add seek(15,1) to next release \\n \",\"add seek(-15,2) to next release \\n \"])\n",
    "fp.seek(0,0) #list also can be added by using writelines\n",
    "r = fp.read()\n",
    "print(r)\n",
    "fp.close()"
   ]
  }
 ],
 "metadata": {
  "kernelspec": {
   "display_name": "Python 3",
   "language": "python",
   "name": "python3"
  },
  "language_info": {
   "codemirror_mode": {
    "name": "ipython",
    "version": 3
   },
   "file_extension": ".py",
   "mimetype": "text/x-python",
   "name": "python",
   "nbconvert_exporter": "python",
   "pygments_lexer": "ipython3",
   "version": "3.7.3"
  }
 },
 "nbformat": 4,
 "nbformat_minor": 2
}
