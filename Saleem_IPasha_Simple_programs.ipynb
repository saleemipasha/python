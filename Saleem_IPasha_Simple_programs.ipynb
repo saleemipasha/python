{
 "cells": [
  {
   "cell_type": "markdown",
   "metadata": {},
   "source": [
    "# Find Largest Element among 3 element"
   ]
  },
  {
   "cell_type": "code",
   "execution_count": 1,
   "metadata": {},
   "outputs": [
    {
     "name": "stdout",
     "output_type": "stream",
     "text": [
      "Largest element among 3 numbers is: 2000\n"
     ]
    }
   ],
   "source": [
    "num1 = 10\n",
    "num2 = 2000\n",
    "num3 = 50\n",
    "if(num1>=num2) and (num1>=num3):\n",
    "    Largest=num1\n",
    "if(num2>=num1) and (num2>=num3):\n",
    "    Largest=num2\n",
    "else:\n",
    "    Largest=num3\n",
    "    \n",
    "print(\"Largest element among 3 numbers is: {}\".format(Largest))"
   ]
  },
  {
   "cell_type": "markdown",
   "metadata": {},
   "source": [
    "# Find the Product"
   ]
  },
  {
   "cell_type": "code",
   "execution_count": 14,
   "metadata": {},
   "outputs": [
    {
     "name": "stdout",
     "output_type": "stream",
     "text": [
      "product is : 720000000\n"
     ]
    }
   ],
   "source": [
    "length = [10,20,30,40,50,60]\n",
    "Product = 1\n",
    "Index = 0\n",
    "while Index < len(length):\n",
    "    Product *= length[Index]\n",
    "    Index += 1\n",
    "    \n",
    "print(\"product is : {}\".format(Product))"
   ]
  },
  {
   "cell_type": "markdown",
   "metadata": {},
   "source": [
    "# Check given number is prime or not"
   ]
  },
  {
   "cell_type": "code",
   "execution_count": 1,
   "metadata": {},
   "outputs": [
    {
     "name": "stdout",
     "output_type": "stream",
     "text": [
      "enter the number: 2\n",
      "2 is a prime number\n"
     ]
    }
   ],
   "source": [
    "num = int(input(\"enter the number: \"))\n",
    "isDivisible = False;\n",
    "i = 2;\n",
    "while i < num:\n",
    "    if num % i == 0:\n",
    "        isDivisible = True;\n",
    "        print(\"{} is divisble by {}\".format(num,i))\n",
    "        i += 1;\n",
    "if isDivisible:\n",
    "    print(\"{} is not a prime number\".format(num))\n",
    "else:\n",
    "    print(\"{} is a prime number\".format(num))    #prime numbers are 2 3 5 7 11 13.... if number is dividing by itself and 1 is called prime numbers"
   ]
  },
  {
   "cell_type": "markdown",
   "metadata": {},
   "source": [
    "# To Display all prime numbers within an interval"
   ]
  },
  {
   "cell_type": "code",
   "execution_count": 13,
   "metadata": {},
   "outputs": [
    {
     "name": "stdout",
     "output_type": "stream",
     "text": [
      "prime numbers between 10 and 50 are :\n",
      "11\n",
      "13\n",
      "17\n",
      "19\n",
      "23\n",
      "29\n",
      "31\n",
      "37\n",
      "41\n",
      "43\n",
      "47\n"
     ]
    }
   ],
   "source": [
    "index1 = 10\n",
    "index2 = 50\n",
    "\n",
    "print(\"prime numbers between {0} and {1} are :\".format(index1, index2))\n",
    "\n",
    "for num in range(index1, index2+1):\n",
    "    if num > 1:\n",
    "        isDivisible = False;\n",
    "        for index in range(2,num):\n",
    "            if num % index == 0:\n",
    "                isDivisible = True;\n",
    "        if not isDivisible:\n",
    "                print(num);"
   ]
  },
  {
   "cell_type": "markdown",
   "metadata": {},
   "source": [
    "# TO make a simple calculator using Function"
   ]
  },
  {
   "cell_type": "code",
   "execution_count": 2,
   "metadata": {},
   "outputs": [
    {
     "name": "stdout",
     "output_type": "stream",
     "text": [
      "Select option\n",
      "1.Addition\n",
      "2.multiplication\n",
      "3.subtraction\n",
      "4.division\n",
      "Enter choice 1/2/3/4 :2\n",
      "Enter First number: 2\n",
      "Enter second number: 10\n",
      "multiplication of 2.0 and 10.0 is 20.0\n"
     ]
    }
   ],
   "source": [
    "def add(a,b):\n",
    "    return a+b\n",
    "def mul(a,b):\n",
    "    return a*b\n",
    "def sub(a,b):\n",
    "    return a-b\n",
    "def div(a,b):\n",
    "    return a/b\n",
    "\n",
    "print(\"Select option\")\n",
    "print(\"1.Addition\")\n",
    "print(\"2.multiplication\")\n",
    "print(\"3.subtraction\")\n",
    "print(\"4.division\")\n",
    "\n",
    "choice = int(input(\"Enter choice 1/2/3/4 :\"))\n",
    "\n",
    "num1 = float(input(\"Enter First number: \"))\n",
    "num2 = float(input(\"Enter second number: \"))\n",
    "if choice == 1:\n",
    "    print(\"addition of {0} and {1} is {2}\".format(num1,num2,add(num1,num2)))\n",
    "\n",
    "elif choice == 2:\n",
    "    print(\"multiplication of {0} and {1} is {2}\".format(num1,num2,mul(num1,num2)))\n",
    "\n",
    "elif choice == 3:\n",
    "    print(\"subtraction of {0} and {1} is {2}\".format(num1,num2,mul(num1,num2)))\n",
    "\n",
    "elif choice == 4:\n",
    "    print(\"division of {0} and {1} is {2}\".format(num1,num2,div(num1,num2)))\n",
    "    \n",
    "else:\n",
    "    print(\"invaid choice\")"
   ]
  },
  {
   "cell_type": "markdown",
   "metadata": {},
   "source": [
    "# Factorial of number using Recursive Function"
   ]
  },
  {
   "cell_type": "code",
   "execution_count": 4,
   "metadata": {},
   "outputs": [
    {
     "name": "stdout",
     "output_type": "stream",
     "text": [
      "factorial of 5 is 120\n"
     ]
    }
   ],
   "source": [
    "def factorial(num):\n",
    "    return 1 if num == 1 else(num*factorial(num-1))\n",
    "num=5\n",
    "print(\"factorial of {0} is {1}\".format(num,factorial(num)))"
   ]
  },
  {
   "cell_type": "markdown",
   "metadata": {},
   "source": [
    "# Fibonacci Sequence using recursion"
   ]
  },
  {
   "cell_type": "code",
   "execution_count": 5,
   "metadata": {},
   "outputs": [
    {
     "name": "stdout",
     "output_type": "stream",
     "text": [
      "Fibonacci sequence\n",
      "0\n",
      "1\n",
      "1\n",
      "2\n",
      "3\n",
      "5\n",
      "8\n",
      "13\n",
      "21\n",
      "34\n"
     ]
    }
   ],
   "source": [
    "def fibonacci(num):\n",
    "    return num if num <= 1 else fibonacci(num-1) + fibonacci(num-2)\n",
    "nterms = 10\n",
    "print(\"Fibonacci sequence\")\n",
    "for num in range(nterms):\n",
    "    print(fibonacci(num))     # 0+1=1, 1+1=2, 1+2=3, 2+3=5, 3+5=8. 5+8=13"
   ]
  },
  {
   "cell_type": "markdown",
   "metadata": {},
   "source": [
    "# Vowels or not"
   ]
  },
  {
   "cell_type": "code",
   "execution_count": 5,
   "metadata": {},
   "outputs": [
    {
     "name": "stdout",
     "output_type": "stream",
     "text": [
      "enter the stringsaleem\n",
      "s is consonant in name 1\n",
      "a is vowel in name 1\n",
      "l is consonant in name 1\n",
      "e is vowel in name 2\n",
      "e is vowel in name 2\n",
      "m is consonant in name 1\n"
     ]
    }
   ],
   "source": [
    "name = input(\"enter the string\")\n",
    "v = ['a','e','i','o','u']\n",
    "for i in name:\n",
    "    if i in v:\n",
    "        print(i,\"is vowel in name\", name.count(i))\n",
    "    else:\n",
    "        print(i,\"is consonant in name\", name.count(i))"
   ]
  },
  {
   "cell_type": "code",
   "execution_count": 6,
   "metadata": {},
   "outputs": [
    {
     "name": "stdout",
     "output_type": "stream",
     "text": [
      "enter the stringsaleem\n",
      "s is consonant\n",
      "a is vowel \n",
      "l is consonant\n",
      "e is vowel \n",
      "e is vowel \n",
      "m is consonant\n"
     ]
    }
   ],
   "source": [
    "name = input(\"enter the string\")\n",
    "v = ['a','e','i','o','u']\n",
    "for i in name:\n",
    "    if i in v:\n",
    "        print(i,\"is vowel \")\n",
    "    else:\n",
    "        print(i,\"is consonant\")"
   ]
  },
  {
   "cell_type": "markdown",
   "metadata": {},
   "source": [
    "# Check wheather String is Palindrome or Not"
   ]
  },
  {
   "cell_type": "code",
   "execution_count": null,
   "metadata": {},
   "outputs": [],
   "source": [
    "name = input(\"enter the string: \")\n",
    "rev_name = name[1:1:-1]\n",
    "if rev_name == name:\n",
    "    print(name, \"is palindome\")\n",
    "else:\n",
    "    print(name, \"is not palindrome\")"
   ]
  },
  {
   "cell_type": "code",
   "execution_count": null,
   "metadata": {},
   "outputs": [],
   "source": []
  }
 ],
 "metadata": {
  "kernelspec": {
   "display_name": "Python 3",
   "language": "python",
   "name": "python3"
  },
  "language_info": {
   "codemirror_mode": {
    "name": "ipython",
    "version": 3
   },
   "file_extension": ".py",
   "mimetype": "text/x-python",
   "name": "python",
   "nbconvert_exporter": "python",
   "pygments_lexer": "ipython3",
   "version": "3.7.3"
  }
 },
 "nbformat": 4,
 "nbformat_minor": 2
}
