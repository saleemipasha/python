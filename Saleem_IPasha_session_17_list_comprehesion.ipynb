{
 "cells": [
  {
   "cell_type": "markdown",
   "metadata": {},
   "source": [
    "# Saleem IPasha session 17 list comprehesion"
   ]
  },
  {
   "cell_type": "code",
   "execution_count": null,
   "metadata": {},
   "outputs": [],
   "source": [
    "List:\n",
    "    mutable\n",
    "    Add:\n",
    "        append\n",
    "        extend\n",
    "        insert\n",
    "    Update:\n",
    "        l[index] = new_value\n",
    "    Delete:\n",
    "        pop\n",
    "        remove\n",
    "        del\n",
    "        clear"
   ]
  },
  {
   "cell_type": "code",
   "execution_count": 1,
   "metadata": {},
   "outputs": [
    {
     "ename": "TypeError",
     "evalue": "'int' object is not iterable",
     "output_type": "error",
     "traceback": [
      "\u001b[1;31m---------------------------------------------------------------------------\u001b[0m",
      "\u001b[1;31mTypeError\u001b[0m                                 Traceback (most recent call last)",
      "\u001b[1;32m<ipython-input-1-a2d38463cc8c>\u001b[0m in \u001b[0;36m<module>\u001b[1;34m\u001b[0m\n\u001b[0;32m      1\u001b[0m \u001b[0ml\u001b[0m\u001b[1;33m=\u001b[0m\u001b[1;33m[\u001b[0m\u001b[1;36m10\u001b[0m\u001b[1;33m,\u001b[0m\u001b[1;36m20\u001b[0m\u001b[1;33m,\u001b[0m\u001b[1;36m30\u001b[0m\u001b[1;33m,\u001b[0m\u001b[1;36m40\u001b[0m\u001b[1;33m]\u001b[0m\u001b[1;33m\u001b[0m\u001b[1;33m\u001b[0m\u001b[0m\n\u001b[1;32m----> 2\u001b[1;33m \u001b[0ml\u001b[0m\u001b[1;33m.\u001b[0m\u001b[0mextend\u001b[0m\u001b[1;33m(\u001b[0m\u001b[1;36m10\u001b[0m\u001b[1;33m)\u001b[0m\u001b[1;33m\u001b[0m\u001b[1;33m\u001b[0m\u001b[0m\n\u001b[0m\u001b[0;32m      3\u001b[0m \u001b[0mprint\u001b[0m\u001b[1;33m(\u001b[0m\u001b[0ml\u001b[0m\u001b[1;33m)\u001b[0m\u001b[1;33m\u001b[0m\u001b[1;33m\u001b[0m\u001b[0m\n",
      "\u001b[1;31mTypeError\u001b[0m: 'int' object is not iterable"
     ]
    }
   ],
   "source": [
    "l=[10,20,30,40]\n",
    "l.extend(10)\n",
    "print(l)"
   ]
  },
  {
   "cell_type": "code",
   "execution_count": 2,
   "metadata": {},
   "outputs": [
    {
     "name": "stdout",
     "output_type": "stream",
     "text": [
      "[10, 20, 30, 40, '1', '0']\n"
     ]
    }
   ],
   "source": [
    "l=[10,20,30,40]\n",
    "l.extend(\"10\")\n",
    "print(l)"
   ]
  },
  {
   "cell_type": "code",
   "execution_count": 3,
   "metadata": {},
   "outputs": [
    {
     "name": "stdout",
     "output_type": "stream",
     "text": [
      "[100, 400, 900, 1600, 2500, 3600]\n"
     ]
    }
   ],
   "source": [
    "l=[10,20,30,40,50,60]\n",
    "l2=[]\n",
    "for value in l:\n",
    "    l2.append(value*value)\n",
    "print(l2)"
   ]
  },
  {
   "cell_type": "code",
   "execution_count": 4,
   "metadata": {},
   "outputs": [
    {
     "name": "stdout",
     "output_type": "stream",
     "text": [
      "[100, 400, 900, 1600, 2500, 3600]\n"
     ]
    }
   ],
   "source": [
    "l=[10,20,30,40,50,60]\n",
    "l2=[value*value for value in l]\n",
    "print(l2)"
   ]
  },
  {
   "cell_type": "code",
   "execution_count": null,
   "metadata": {},
   "outputs": [],
   "source": [
    "[output expression for var in iterbale_datatype filtering condition]"
   ]
  },
  {
   "cell_type": "code",
   "execution_count": 6,
   "metadata": {},
   "outputs": [
    {
     "name": "stdout",
     "output_type": "stream",
     "text": [
      "['abcabc', 'abcdabcd', 'DxyaDxya', 24, 'adGDFGfadGDFGf']\n"
     ]
    }
   ],
   "source": [
    "l=['abc',\"abcd\",\"Dxya\",12,\"adGDFGf\"]\n",
    "l1=[value*2 for value in l]\n",
    "print(l1)"
   ]
  },
  {
   "cell_type": "code",
   "execution_count": 7,
   "metadata": {},
   "outputs": [
    {
     "name": "stdout",
     "output_type": "stream",
     "text": [
      "[6, 7, 7, 8, 10]\n",
      "['10', '10', '10', '10', '10']\n"
     ]
    }
   ],
   "source": [
    "l=['abcdef',\"efabcde\",\"zxyabcd\",\"@#$%^#$%\",\"adbbecdsff\"]\n",
    "l2=[]\n",
    "l1=[]\n",
    "for value in l:\n",
    "    l2.append(len(value))\n",
    "    l1.append(\"10\")\n",
    "print(l2)\n",
    "\n",
    "print(l1)"
   ]
  },
  {
   "cell_type": "code",
   "execution_count": 9,
   "metadata": {},
   "outputs": [
    {
     "name": "stdout",
     "output_type": "stream",
     "text": [
      "[6, 7, 7, 8, 10]\n"
     ]
    }
   ],
   "source": [
    "l=['abcdef',\"efabcde\",\"zxyabcd\",\"@#$%^#$%\",\"adbbecdsff\"]\n",
    "l1=[len(value) for value in l]\n",
    "print(l1)"
   ]
  },
  {
   "cell_type": "code",
   "execution_count": 10,
   "metadata": {},
   "outputs": [
    {
     "name": "stdout",
     "output_type": "stream",
     "text": [
      "['abcdef', 'efabcde', 'zxyabcd', '@#$%^#$%', 'adbbecdsff']\n"
     ]
    }
   ],
   "source": [
    "l=['abcdef',\"efabcde\",\"zxyabcd\",\"@#$%^#$%\",\"adbbecdsff\"]\n",
    "l2=[value[0]+value[-1] for value in l]\n",
    "print(l)"
   ]
  },
  {
   "cell_type": "code",
   "execution_count": 11,
   "metadata": {},
   "outputs": [
    {
     "name": "stdout",
     "output_type": "stream",
     "text": [
      "['a', 'n', 'w', 'c', 'n']\n"
     ]
    }
   ],
   "source": [
    "l=[97,110,119,99,110]\n",
    "#l2=['a','m','y','z']\n",
    "l2=[chr(value) for value in l]\n",
    "print(l2)"
   ]
  },
  {
   "cell_type": "code",
   "execution_count": null,
   "metadata": {},
   "outputs": [],
   "source": [
    "5 random no (10,100)"
   ]
  },
  {
   "cell_type": "code",
   "execution_count": 12,
   "metadata": {},
   "outputs": [
    {
     "name": "stdout",
     "output_type": "stream",
     "text": [
      "41\n",
      "[29, 82, 44, 55, 88]\n"
     ]
    }
   ],
   "source": [
    "import random\n",
    "print(random.randint(10,100))\n",
    "l2=[random.randint(10,100) for value in range(5)]\n",
    "print(l2)"
   ]
  },
  {
   "cell_type": "code",
   "execution_count": 13,
   "metadata": {},
   "outputs": [
    {
     "name": "stdout",
     "output_type": "stream",
     "text": [
      "[[1, 10, 100], [2, 20, 200], [3, 30, 300]]\n",
      "[1, 2, 3, 10, 20, 30, 100, 200, 300, [1, 10, 100], [2, 20, 200], [3, 30, 300]]\n"
     ]
    }
   ],
   "source": [
    "l1=[1,2,3]\n",
    "l2=[10,20,30]\n",
    "l3=[100,200,300]\n",
    "l4=[list(value) for value in zip(l1,l2,l3)]\n",
    "print(l4)\n",
    "l5=l1+l2+l3+l4\n",
    "print(l5)\n",
    "#l4=[[1,10,100],[2,20,200],[3,30,300]]\n",
    "#zip(l1,l2,l3)"
   ]
  },
  {
   "cell_type": "code",
   "execution_count": 14,
   "metadata": {},
   "outputs": [
    {
     "name": "stdout",
     "output_type": "stream",
     "text": [
      "7.3118087999991985\n"
     ]
    }
   ],
   "source": [
    "import timeit\n",
    "t=timeit.timeit(stmt =\"\"\"\n",
    "l2=[]\n",
    "for value in range(1,10000000):\n",
    "    l2.append(value ** 2)\n",
    "\"\"\",number=1)\n",
    "print(t)"
   ]
  },
  {
   "cell_type": "code",
   "execution_count": 15,
   "metadata": {},
   "outputs": [
    {
     "name": "stdout",
     "output_type": "stream",
     "text": [
      "6.588244400001713\n"
     ]
    }
   ],
   "source": [
    "t=timeit.timeit(stmt =\"\"\"\n",
    "l2=[value ** 2 for value in range(1,10000000)]\n",
    "\"\"\",number=1)\n",
    "print(t)"
   ]
  },
  {
   "cell_type": "code",
   "execution_count": 16,
   "metadata": {},
   "outputs": [
    {
     "name": "stdout",
     "output_type": "stream",
     "text": [
      "['a', 'b', 'n', 'o', 'y']\n"
     ]
    }
   ],
   "source": [
    "l=[97,98,110,111,121,123,130]\n",
    "l2=[chr(value) for value in l if ord('a') <= value <= ord('z')]\n",
    "print(l2)\n",
    "#print(chr(98))"
   ]
  },
  {
   "cell_type": "code",
   "execution_count": null,
   "metadata": {},
   "outputs": [],
   "source": [
    "123=>97=>'a'\n",
    "if 97-122 chr('value')\n",
    "else 123-26 =>chr()"
   ]
  },
  {
   "cell_type": "code",
   "execution_count": 17,
   "metadata": {},
   "outputs": [
    {
     "name": "stdout",
     "output_type": "stream",
     "text": [
      "['a', 'b', 'n', 'o', 'y', 'a', 'h']\n"
     ]
    }
   ],
   "source": [
    "l=[97,98,110,111,121,123,130]\n",
    "l2=[chr(value) if ord ('a')<=value <= ord('z') else chr(value-26) for value in l]\n",
    "print(l2)"
   ]
  },
  {
   "cell_type": "code",
   "execution_count": 18,
   "metadata": {},
   "outputs": [
    {
     "name": "stdout",
     "output_type": "stream",
     "text": [
      "0 100\n",
      "0 101\n",
      "0 102\n",
      "0 103\n",
      "0 104\n",
      "1 100\n",
      "1 101\n",
      "1 102\n",
      "1 103\n",
      "1 104\n",
      "2 100\n",
      "2 101\n",
      "2 102\n",
      "2 103\n",
      "2 104\n",
      "3 100\n",
      "3 101\n",
      "3 102\n",
      "3 103\n",
      "3 104\n",
      "4 100\n",
      "4 101\n",
      "4 102\n",
      "4 103\n",
      "4 104\n"
     ]
    }
   ],
   "source": [
    "for value1 in range(5):\n",
    "    for value2 in range(100,105):\n",
    "        print(value1,value2)"
   ]
  },
  {
   "cell_type": "code",
   "execution_count": 19,
   "metadata": {},
   "outputs": [
    {
     "name": "stdout",
     "output_type": "stream",
     "text": [
      "[(0, 100), (0, 101), (0, 102), (0, 103), (0, 104), (1, 100), (1, 101), (1, 102), (1, 103), (1, 104), (2, 100), (2, 101), (2, 102), (2, 103), (2, 104), (3, 100), (3, 101), (3, 102), (3, 103), (3, 104), (4, 100), (4, 101), (4, 102), (4, 103), (4, 104)]\n"
     ]
    }
   ],
   "source": [
    "l=[(value1,value2) for value1 in range(5)for value2 in range(100,105)]\n",
    "print(l)"
   ]
  },
  {
   "cell_type": "code",
   "execution_count": 20,
   "metadata": {},
   "outputs": [
    {
     "name": "stdout",
     "output_type": "stream",
     "text": [
      "[1, 2, 3, 4, 5, 6, 7, 8, 9]\n"
     ]
    }
   ],
   "source": [
    "l=[[1,2,3],[4,5,6],[7,8,9]]\n",
    "#l2=[1,2,3,4,5,6,7,8,9]\n",
    "l2=[value2 for value1 in l for value2 in value1]\n",
    "print(l2)"
   ]
  },
  {
   "cell_type": "code",
   "execution_count": 21,
   "metadata": {},
   "outputs": [
    {
     "name": "stdout",
     "output_type": "stream",
     "text": [
      "[[1, 4, 7]]\n"
     ]
    }
   ],
   "source": [
    "l=[[1,2,3],[4,5,6],[7,8,9]]\n",
    "l2=[[value[0] for value in l]]\n",
    "#l2=[1,2,7],[2,5,8],[3,6,9]]\n",
    "print(l2)"
   ]
  },
  {
   "cell_type": "code",
   "execution_count": 22,
   "metadata": {},
   "outputs": [
    {
     "name": "stdout",
     "output_type": "stream",
     "text": [
      "[[3, 6, 9]]\n"
     ]
    }
   ],
   "source": [
    "l=[[1,2,3],[4,5,6],[7,8,9]]\n",
    "l2=[[value[2] for value in l]]\n",
    "#l2=[1,2,7],[2,5,8],[3,6,9]]\n",
    "print(l2)"
   ]
  },
  {
   "cell_type": "code",
   "execution_count": 23,
   "metadata": {},
   "outputs": [
    {
     "name": "stdout",
     "output_type": "stream",
     "text": [
      "[[1, 4, 7], [2, 5, 8], [3, 6, 9]]\n"
     ]
    }
   ],
   "source": [
    "l=[[1,2,3],[4,5,6],[7,8,9]]\n",
    "l2=[[value[index] for value in l] for index in range(len(l[0]))]\n",
    "#l2=[1,2,7],[2,5,8],[3,6,9]]\n",
    "print(l2)"
   ]
  },
  {
   "cell_type": "code",
   "execution_count": null,
   "metadata": {},
   "outputs": [],
   "source": [
    "Dict :\n",
    "    {\"key\":\"value\"}\n",
    "    mutable\n",
    "    unordered\n",
    "    \n",
    "    add:\n",
    "        d[key]= value\n",
    "        d.setdefault(key,value)\n",
    "    Update:\n",
    "        d[key]=value\n",
    "        \n",
    "    Delete :\n",
    "        pop(\"key\")\n",
    "        clear\n",
    "        del\n",
    "        popitem"
   ]
  },
  {
   "cell_type": "code",
   "execution_count": null,
   "metadata": {},
   "outputs": [],
   "source": [
    "#d={1:1,2:3,4:9..........10:100}"
   ]
  },
  {
   "cell_type": "code",
   "execution_count": 24,
   "metadata": {},
   "outputs": [
    {
     "name": "stdout",
     "output_type": "stream",
     "text": [
      "{1: 1, 2: 4, 3: 9, 4: 16, 5: 25, 6: 36, 7: 49, 8: 64, 9: 81, 10: 100}\n"
     ]
    }
   ],
   "source": [
    "d2 = {key:key ** 2 for key in range(1,11)}\n",
    "print(d2)"
   ]
  },
  {
   "cell_type": "code",
   "execution_count": 25,
   "metadata": {},
   "outputs": [
    {
     "name": "stdout",
     "output_type": "stream",
     "text": [
      "{'a': 97, 'b': 98, 'c': 99, 'd': 100, 'e': 101, 'f': 102, 'g': 103, 'h': 104, 'i': 105, 'j': 106, 'k': 107, 'l': 108, 'm': 109, 'n': 110, 'o': 111, 'p': 112, 'q': 113, 'r': 114, 's': 115, 't': 116, 'u': 117, 'v': 118, 'w': 119, 'x': 120, 'y': 121, 'z': 122}\n"
     ]
    }
   ],
   "source": [
    "d2={chr(value):value for  value in range(ord('a'),ord('z')+1)}\n",
    "print(d2)"
   ]
  },
  {
   "cell_type": "code",
   "execution_count": 26,
   "metadata": {},
   "outputs": [
    {
     "name": "stdout",
     "output_type": "stream",
     "text": [
      "{(1, 10): 0, (11, 20): 0, (21, 30): 0, (31, 40): 0, (41, 50): 0, (51, 60): 0, (61, 70): 0, (71, 80): 0, (81, 90): 0, (91, 100): 0}\n"
     ]
    }
   ],
   "source": [
    "d2={(key,key+9): 0 for key in range(1,92,10)}\n",
    "print(d2)"
   ]
  },
  {
   "cell_type": "code",
   "execution_count": null,
   "metadata": {},
   "outputs": [],
   "source": []
  }
 ],
 "metadata": {
  "kernelspec": {
   "display_name": "Python 3",
   "language": "python",
   "name": "python3"
  },
  "language_info": {
   "codemirror_mode": {
    "name": "ipython",
    "version": 3
   },
   "file_extension": ".py",
   "mimetype": "text/x-python",
   "name": "python",
   "nbconvert_exporter": "python",
   "pygments_lexer": "ipython3",
   "version": "3.7.3"
  }
 },
 "nbformat": 4,
 "nbformat_minor": 2
}
