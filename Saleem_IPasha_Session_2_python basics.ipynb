{
 "cells": [
  {
   "cell_type": "markdown",
   "metadata": {},
   "source": [
    "# SALEEM SESSION 2"
   ]
  },
  {
   "cell_type": "markdown",
   "metadata": {},
   "source": [
    "PYTHON BASICS"
   ]
  },
  {
   "cell_type": "markdown",
   "metadata": {},
   "source": [
    "                DATA TYPES\n",
    "    IMMUTABLE                  MUTABLE\n",
    "    STRING                     DICT\n",
    "    NUMBER                     LISTS\n",
    "    TUPLES                      SET\n",
    "    \n",
    "IMMUTABLE ONCE CREATED CANNOT BE MODIFIED\n",
    "\n",
    "Mutable : Add , Update and Delete operations\n",
    "    \n",
    "Immutable : Can not perform add , update and delete"
   ]
  },
  {
   "cell_type": "code",
   "execution_count": 15,
   "metadata": {},
   "outputs": [
    {
     "name": "stdout",
     "output_type": "stream",
     "text": [
      "hello\n"
     ]
    }
   ],
   "source": [
    "print(\"hello\")"
   ]
  },
  {
   "cell_type": "code",
   "execution_count": 2,
   "metadata": {},
   "outputs": [
    {
     "name": "stdout",
     "output_type": "stream",
     "text": [
      "20\n"
     ]
    }
   ],
   "source": [
    "#integer points\n",
    "a=10\n",
    "b=10\n",
    "c=a+b\n",
    "print(c)"
   ]
  },
  {
   "cell_type": "markdown",
   "metadata": {},
   "source": [
    "A VARIABLE IS A LOCATION IN MEMORY USED TO SRORE SOME DATA/VALUE"
   ]
  },
  {
   "cell_type": "code",
   "execution_count": 5,
   "metadata": {},
   "outputs": [
    {
     "name": "stdout",
     "output_type": "stream",
     "text": [
      "211.357\n"
     ]
    }
   ],
   "source": [
    "#FLOOTING POINTS\n",
    "\n",
    "s=100.123\n",
    "m=111.234\n",
    "print(s+m)"
   ]
  },
  {
   "cell_type": "code",
   "execution_count": 14,
   "metadata": {},
   "outputs": [
    {
     "name": "stdout",
     "output_type": "stream",
     "text": [
      "good morning Hassan <class 'str'>\n"
     ]
    }
   ],
   "source": [
    "s=\"good morning Hassan\"\n",
    "print(s,type(s))"
   ]
  },
  {
   "cell_type": "code",
   "execution_count": 40,
   "metadata": {},
   "outputs": [
    {
     "name": "stdout",
     "output_type": "stream",
     "text": [
      "abcd <class 'str'>\n"
     ]
    }
   ],
   "source": [
    "#string data type\n",
    "a=\"abcd\"\n",
    "print(a,type(a))"
   ]
  },
  {
   "cell_type": "code",
   "execution_count": 10,
   "metadata": {},
   "outputs": [
    {
     "name": "stdout",
     "output_type": "stream",
     "text": [
      "[2, 3, 4, 5, 6, 7, 8, 9, 11, 12]\n",
      "[2, 4, 6, 8, 11]\n",
      "[2, 5, 8, 12]\n"
     ]
    }
   ],
   "source": [
    "#lists\n",
    "\n",
    "length = [1,2,3,4,5,6,7,8,9,11,12]\n",
    "print(length[1:11:1])\n",
    "print(length[1:11:2])\n",
    "print(length[1:11:3])"
   ]
  },
  {
   "cell_type": "code",
   "execution_count": 39,
   "metadata": {},
   "outputs": [
    {
     "name": "stdout",
     "output_type": "stream",
     "text": [
      "[10, 11, 12, 13, 14, 15, 22, 'edyoda', ['1234']] <class 'list'>\n"
     ]
    }
   ],
   "source": [
    "#list data type\n",
    "l=[10,11,12,13,14,15,22,\"edyoda\",['1234']]\n",
    "print(l,type(l))"
   ]
  },
  {
   "cell_type": "code",
   "execution_count": 31,
   "metadata": {},
   "outputs": [
    {
     "name": "stdout",
     "output_type": "stream",
     "text": [
      "False True False\n"
     ]
    }
   ],
   "source": [
    "#bool\n",
    "s=111\n",
    "m=222\n",
    "c=333\n",
    "d = s>m\n",
    "e = s<m\n",
    "f = m>c\n",
    "print(d,e,f)"
   ]
  },
  {
   "cell_type": "code",
   "execution_count": 32,
   "metadata": {},
   "outputs": [
    {
     "name": "stdout",
     "output_type": "stream",
     "text": [
      "{'Name': 'ABCDEF', 'Email': 'ABCDEF@gmail.com'} <class 'dict'>\n"
     ]
    }
   ],
   "source": [
    "length = {\"Name\": \"ABCDEF\", \"Email\":\"ABCDEF@gmail.com\"}\n",
    "print(length,type(length))"
   ]
  },
  {
   "cell_type": "markdown",
   "metadata": {},
   "source": [
    "DICT IS AN UNORDERED COLLECTION OF KEY-VALUE PAIRS"
   ]
  },
  {
   "cell_type": "code",
   "execution_count": 6,
   "metadata": {},
   "outputs": [
    {
     "name": "stdout",
     "output_type": "stream",
     "text": [
      "{'name': 'sam', 'email': 'sam@gmail.com', 'contact': 1234567777} <class 'dict'>\n",
      "sam\n",
      "sam@gmail.com\n",
      "1234567777\n"
     ]
    }
   ],
   "source": [
    "#dictionary data type\n",
    "d={\"name\":\"sam\",\"email\":\"sam@gmail.com\",\"contact\":1234567777}\n",
    "print(d,type(d))\n",
    "print(d['name'])\n",
    "print(d['email'])\n",
    "print(d['contact'])"
   ]
  },
  {
   "cell_type": "code",
   "execution_count": 2,
   "metadata": {},
   "outputs": [
    {
     "name": "stdout",
     "output_type": "stream",
     "text": [
      "{1, 2, 3, 4, 5, 6, 7, 8} <class 'set'>\n"
     ]
    }
   ],
   "source": [
    "set = {1,2,3,4,5,6,7,8}\n",
    "print(set,type(set))"
   ]
  },
  {
   "cell_type": "markdown",
   "metadata": {},
   "source": [
    "#OPERATORS OF PYTHON DJANGO\n",
    "#Airthmetic operator\n",
    "+ addition\n",
    "- subtraction\n",
    "* multipplication\n",
    "/ True division\n",
    "// floor division\n",
    "** powers\n",
    "% modulus"
   ]
  },
  {
   "cell_type": "code",
   "execution_count": 8,
   "metadata": {},
   "outputs": [
    {
     "name": "stdout",
     "output_type": "stream",
     "text": [
      "13\n",
      "7\n",
      "3.3333333333333335\n",
      "1\n",
      "30\n",
      "1000\n",
      "3\n"
     ]
    }
   ],
   "source": [
    "a=10\n",
    "b=3\n",
    "print(a+b)\n",
    "print(a-b)\n",
    "print(a/b)\n",
    "print(a%b)\n",
    "print(a*b)\n",
    "print(a**b)\n",
    "print(a//b)"
   ]
  },
  {
   "cell_type": "code",
   "execution_count": 35,
   "metadata": {},
   "outputs": [
    {
     "name": "stdout",
     "output_type": "stream",
     "text": [
      "False\n",
      "True\n",
      "True\n"
     ]
    }
   ],
   "source": [
    "d={1:110,\"age\":23,\"name\":\"sam\"}\n",
    "print(1 not in d)\n",
    "print(1 in d)\n",
    "print(\"name\" in d)"
   ]
  },
  {
   "cell_type": "code",
   "execution_count": 2,
   "metadata": {},
   "outputs": [
    {
     "name": "stdout",
     "output_type": "stream",
     "text": [
      "10 140720480162912\n",
      "20 140720480163232\n"
     ]
    }
   ],
   "source": [
    "num1 = 10\n",
    "print(num1,id(num1))\n",
    "\n",
    "num1 = 20\n",
    "print(num1,id(num1))"
   ]
  },
  {
   "cell_type": "code",
   "execution_count": 16,
   "metadata": {},
   "outputs": [
    {
     "name": "stdout",
     "output_type": "stream",
     "text": [
      "True\n",
      "True\n",
      "False\n",
      "True\n",
      "False\n"
     ]
    }
   ],
   "source": [
    "S1 = \"python\"\n",
    "S2 = \"python\"\n",
    "print(S1 == S2)\n",
    "s1 = 10\n",
    "s2 = 5\n",
    "print(s1 > s2)\n",
    "print(s1 < s2)\n",
    "print(s1 >= s2)\n",
    "print(s1 <= s2)"
   ]
  },
  {
   "cell_type": "code",
   "execution_count": null,
   "metadata": {},
   "outputs": [],
   "source": [
    "immutable : cant change the value with different memory location\n",
    "    int\n",
    "    float\n",
    "    tuple\n",
    "mutable :\n",
    "    list dict set"
   ]
  },
  {
   "cell_type": "markdown",
   "metadata": {},
   "source": [
    "Logical Operator :"
   ]
  },
  {
   "cell_type": "code",
   "execution_count": 9,
   "metadata": {},
   "outputs": [
    {
     "name": "stdout",
     "output_type": "stream",
     "text": [
      "False\n"
     ]
    }
   ],
   "source": [
    "print(100 == 100 and 100 != 100)"
   ]
  },
  {
   "cell_type": "code",
   "execution_count": 10,
   "metadata": {},
   "outputs": [
    {
     "name": "stdout",
     "output_type": "stream",
     "text": [
      "False\n"
     ]
    }
   ],
   "source": [
    "print(100 != 100 and 100 == 100)"
   ]
  },
  {
   "cell_type": "code",
   "execution_count": 11,
   "metadata": {},
   "outputs": [
    {
     "name": "stdout",
     "output_type": "stream",
     "text": [
      "True\n"
     ]
    }
   ],
   "source": [
    "print(100 == 100 or 100 != 100)"
   ]
  },
  {
   "cell_type": "code",
   "execution_count": null,
   "metadata": {},
   "outputs": [],
   "source": [
    "True/False :\n",
    "    Comparsion\n",
    "    Membership\n",
    "    Logical\n",
    "    Identity"
   ]
  },
  {
   "cell_type": "code",
   "execution_count": null,
   "metadata": {},
   "outputs": [],
   "source": [
    "Overview"
   ]
  },
  {
   "cell_type": "code",
   "execution_count": null,
   "metadata": {},
   "outputs": [],
   "source": [
    "type()\n",
    "id()"
   ]
  },
  {
   "cell_type": "code",
   "execution_count": 12,
   "metadata": {},
   "outputs": [
    {
     "name": "stdout",
     "output_type": "stream",
     "text": [
      "140720480163392\n",
      "140720480163392\n"
     ]
    }
   ],
   "source": [
    "num1 = 25\n",
    "num2 = 25\n",
    "print(id(num1))\n",
    "print(id(num2))"
   ]
  },
  {
   "cell_type": "code",
   "execution_count": 13,
   "metadata": {},
   "outputs": [
    {
     "name": "stdout",
     "output_type": "stream",
     "text": [
      "2843194718856\n",
      "2843193937224\n"
     ]
    }
   ],
   "source": [
    "l1 = [10,20,30]\n",
    "l2 = [10,20,30]\n",
    "print(id(l1))\n",
    "print(id(l2))"
   ]
  },
  {
   "cell_type": "code",
   "execution_count": null,
   "metadata": {},
   "outputs": [],
   "source": [
    "immutable : cant change the value with different memory location\n",
    "    int\n",
    "    float\n",
    "    tuple\n",
    "mutable :\n",
    "    list dict set"
   ]
  },
  {
   "cell_type": "code",
   "execution_count": null,
   "metadata": {},
   "outputs": [],
   "source": [
    "Iterable :\n",
    "    str list dict set tuple\n",
    "not iterable :\n",
    "    int float"
   ]
  },
  {
   "cell_type": "code",
   "execution_count": null,
   "metadata": {},
   "outputs": [],
   "source": [
    "in operator not work with int , float and works with dict only in terms of keys not values"
   ]
  },
  {
   "cell_type": "code",
   "execution_count": null,
   "metadata": {},
   "outputs": [],
   "source": [
    "== checks the values\n",
    "is checks the memory location"
   ]
  }
 ],
 "metadata": {
  "kernelspec": {
   "display_name": "Python 3",
   "language": "python",
   "name": "python3"
  },
  "language_info": {
   "codemirror_mode": {
    "name": "ipython",
    "version": 3
   },
   "file_extension": ".py",
   "mimetype": "text/x-python",
   "name": "python",
   "nbconvert_exporter": "python",
   "pygments_lexer": "ipython3",
   "version": "3.7.3"
  }
 },
 "nbformat": 4,
 "nbformat_minor": 2
}
