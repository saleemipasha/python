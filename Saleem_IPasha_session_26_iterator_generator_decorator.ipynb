{
 "cells": [
  {
   "cell_type": "markdown",
   "metadata": {},
   "source": [
    "# Saleem IPasha Session 26"
   ]
  },
  {
   "cell_type": "markdown",
   "metadata": {},
   "source": [
    "# Iterators Decorators and Generators"
   ]
  },
  {
   "cell_type": "code",
   "execution_count": 7,
   "metadata": {},
   "outputs": [
    {
     "name": "stdout",
     "output_type": "stream",
     "text": [
      "[100, 400, 900, 1600]\n"
     ]
    }
   ],
   "source": [
    "l = [10,20,30,40]\n",
    "m = map(lambda num1:num1 * num1,l)\n",
    "#print(next(m))   #printing first index value i.e 100\n",
    "#print(next(m))   #printing second index value i.e 400\n",
    "print(list(m))"
   ]
  },
  {
   "cell_type": "code",
   "execution_count": null,
   "metadata": {},
   "outputs": [],
   "source": [
    "Iterator :\n",
    "    \n",
    "__iter__\n",
    "__next__"
   ]
  },
  {
   "cell_type": "code",
   "execution_count": 8,
   "metadata": {},
   "outputs": [
    {
     "name": "stdout",
     "output_type": "stream",
     "text": [
      "['__add__', '__class__', '__contains__', '__delattr__', '__delitem__', '__dir__', '__doc__', '__eq__', '__format__', '__ge__', '__getattribute__', '__getitem__', '__gt__', '__hash__', '__iadd__', '__imul__', '__init__', '__init_subclass__', '__iter__', '__le__', '__len__', '__lt__', '__mul__', '__ne__', '__new__', '__reduce__', '__reduce_ex__', '__repr__', '__reversed__', '__rmul__', '__setattr__', '__setitem__', '__sizeof__', '__str__', '__subclasshook__', 'append', 'clear', 'copy', 'count', 'extend', 'index', 'insert', 'pop', 'remove', 'reverse', 'sort']\n"
     ]
    }
   ],
   "source": [
    "print(dir(list))"
   ]
  },
  {
   "cell_type": "code",
   "execution_count": 10,
   "metadata": {},
   "outputs": [
    {
     "name": "stdout",
     "output_type": "stream",
     "text": [
      "<list_iterator object at 0x0000013D1EFB40B8>\n"
     ]
    }
   ],
   "source": [
    "l = [10,20,30,40,50] \n",
    "\n",
    "i = iter(l)\n",
    "print(i)"
   ]
  },
  {
   "cell_type": "code",
   "execution_count": 11,
   "metadata": {},
   "outputs": [],
   "source": [
    "import itertools"
   ]
  },
  {
   "cell_type": "code",
   "execution_count": 19,
   "metadata": {},
   "outputs": [
    {
     "name": "stdout",
     "output_type": "stream",
     "text": [
      "10\n",
      "20\n",
      "30\n",
      "40\n",
      "50\n",
      "P\n",
      "y\n",
      "t\n",
      "h\n",
      "o\n",
      "n\n",
      ",\n",
      "J\n",
      "a\n",
      "v\n",
      "a\n",
      ",\n",
      "C\n",
      "10\n",
      "20\n",
      "30\n",
      "40\n",
      "50\n",
      "60\n",
      "0\n",
      "1\n",
      "2\n",
      "3\n",
      "4\n"
     ]
    }
   ],
   "source": [
    "l1 = [10,20,30,40,50]\n",
    "s1 = \"Python,Java,C\"\n",
    "t1 = (10,20,30,40,50,60)\n",
    "r1 = range(5)\n",
    "\n",
    "i = itertools.chain(l1,s1,t1,r1)\n",
    "print(next(i))\n",
    "print(next(i))\n",
    "for value in i:\n",
    "    print(value)\n",
    "    \n",
    "for value in i:\n",
    "    print(value)"
   ]
  },
  {
   "cell_type": "code",
   "execution_count": 18,
   "metadata": {},
   "outputs": [
    {
     "name": "stdout",
     "output_type": "stream",
     "text": [
      "30\n",
      "40\n",
      "50\n",
      "P\n",
      "y\n",
      "t\n",
      "h\n",
      "o\n",
      "n\n",
      ",\n"
     ]
    }
   ],
   "source": [
    "l1 = [10,20,30,40,50]\n",
    "s1 = \"Python,Java,C\"\n",
    "t1 = (10,20,30,40,50,60)\n",
    "r1 = range(5)\n",
    "\n",
    "i = itertools.chain(l1,s1,t1,r1)\n",
    "\n",
    "for value in itertools.islice(i,2,12):\n",
    "    print(value)"
   ]
  },
  {
   "cell_type": "code",
   "execution_count": 20,
   "metadata": {},
   "outputs": [
    {
     "name": "stdout",
     "output_type": "stream",
     "text": [
      "10\n",
      "20\n",
      "30\n",
      "40\n",
      "50\n",
      "P\n",
      "y\n",
      "t\n",
      "h\n",
      "o\n",
      "n\n",
      ",\n",
      "J\n",
      "a\n",
      "v\n",
      "a\n",
      ",\n",
      "C\n",
      "10\n",
      "20\n",
      "30\n",
      "40\n",
      "50\n",
      "60\n",
      "0\n",
      "1\n",
      "2\n",
      "3\n",
      "4\n",
      "10\n",
      "20\n",
      "30\n",
      "40\n",
      "50\n",
      "P\n",
      "y\n",
      "t\n",
      "h\n",
      "o\n",
      "n\n",
      ",\n",
      "J\n",
      "a\n",
      "v\n",
      "a\n",
      ",\n",
      "C\n",
      "10\n",
      "20\n",
      "30\n",
      "40\n",
      "50\n",
      "60\n",
      "0\n",
      "1\n",
      "2\n",
      "3\n",
      "4\n"
     ]
    }
   ],
   "source": [
    "l1 = [10,20,30,40,50]\n",
    "s1 = \"Python,Java,C\"\n",
    "t1 = (10,20,30,40,50,60)\n",
    "r1 = range(5)\n",
    "\n",
    "i = itertools.chain(l1,s1,t1,r1)    #object\n",
    "print(next(i))\n",
    "print(next(i))\n",
    "for value in i:\n",
    "    print(value)\n",
    "    \n",
    "j = itertools.chain(l1,s1,t1,r1)     #another object\n",
    "for value in j:\n",
    "    print(value)"
   ]
  },
  {
   "cell_type": "code",
   "execution_count": 21,
   "metadata": {},
   "outputs": [
    {
     "name": "stdout",
     "output_type": "stream",
     "text": [
      "(<itertools._tee object at 0x0000013D1EF6CE88>, <itertools._tee object at 0x0000013D1EFA6188>, <itertools._tee object at 0x0000013D1EFB3708>, <itertools._tee object at 0x0000013D1EFB3348>, <itertools._tee object at 0x0000013D1EFB3748>)\n",
      "10\n",
      "20\n",
      "30\n",
      "40\n",
      "50\n",
      "P\n",
      "y\n",
      "t\n",
      "h\n",
      "o\n",
      "n\n",
      ",\n",
      "J\n",
      "a\n",
      "v\n",
      "a\n",
      ",\n",
      "C\n",
      "10\n",
      "20\n",
      "30\n",
      "40\n",
      "50\n",
      "60\n",
      "0\n",
      "1\n",
      "2\n",
      "3\n",
      "4\n",
      "10\n",
      "20\n",
      "30\n",
      "40\n",
      "50\n",
      "P\n",
      "y\n",
      "t\n",
      "h\n",
      "o\n",
      "n\n",
      ",\n",
      "J\n",
      "a\n",
      "v\n",
      "a\n",
      ",\n",
      "C\n",
      "10\n",
      "20\n",
      "30\n",
      "40\n",
      "50\n",
      "60\n",
      "0\n",
      "1\n",
      "2\n",
      "3\n",
      "4\n"
     ]
    }
   ],
   "source": [
    "l1 = [10,20,30,40,50]\n",
    "s1 = \"Python,Java,C\"\n",
    "t1 = (10,20,30,40,50,60)\n",
    "r1 = range(5)\n",
    "\n",
    "i = itertools.chain(l1,s1,t1,r1)\n",
    "t = itertools.tee(i,5)\n",
    "print(t)\n",
    "\n",
    "for value in t[0]: #default t[0] will print two objects.\n",
    "    print(value)\n",
    "    \n",
    "for value in t[1]:\n",
    "    print(value)"
   ]
  },
  {
   "cell_type": "code",
   "execution_count": 9,
   "metadata": {},
   "outputs": [
    {
     "name": "stdout",
     "output_type": "stream",
     "text": [
      "(10, 20, 30, 40)\n",
      "(10, 20, 30, 50)\n",
      "(10, 20, 30, 60)\n",
      "(10, 20, 40, 50)\n",
      "(10, 20, 40, 60)\n",
      "(10, 20, 50, 60)\n",
      "(10, 30, 40, 50)\n",
      "(10, 30, 40, 60)\n",
      "(10, 30, 50, 60)\n",
      "(10, 40, 50, 60)\n",
      "(20, 30, 40, 50)\n",
      "(20, 30, 40, 60)\n",
      "(20, 30, 50, 60)\n",
      "(20, 40, 50, 60)\n",
      "(30, 40, 50, 60)\n"
     ]
    }
   ],
   "source": [
    "import itertools\n",
    "l = [10,20,30,40,50,60]\n",
    "i = itertools.combinations(l,4)\n",
    "for value in i:\n",
    "    print(value)"
   ]
  },
  {
   "cell_type": "code",
   "execution_count": 27,
   "metadata": {},
   "outputs": [
    {
     "name": "stdout",
     "output_type": "stream",
     "text": [
      "<itertools.permutations object at 0x0000013D1EF68AF0>\n",
      "(10, 20, 30)\n"
     ]
    }
   ],
   "source": [
    "l = [10,20,30,40,50]\n",
    "i = itertools.permutations(l,3)\n",
    "print(i)\n",
    "print(next(i))\n",
    "# for value in i:\n",
    "#     print(value)"
   ]
  },
  {
   "cell_type": "code",
   "execution_count": 11,
   "metadata": {},
   "outputs": [
    {
     "name": "stdout",
     "output_type": "stream",
     "text": [
      "10\n",
      "20\n",
      "30\n",
      "40\n",
      "50\n",
      "10\n",
      "20\n",
      "30\n",
      "40\n",
      "50\n",
      "10\n",
      "310\n"
     ]
    }
   ],
   "source": [
    "l = [10,20,30,40,50]\n",
    "i = itertools.cycle(l)\n",
    "sum = 0 \n",
    "for value in i:\n",
    "    print(value)\n",
    "    sum = sum + value\n",
    "    if sum > 300:\n",
    "        print(sum)\n",
    "        break"
   ]
  },
  {
   "cell_type": "code",
   "execution_count": 31,
   "metadata": {},
   "outputs": [
    {
     "name": "stdout",
     "output_type": "stream",
     "text": [
      "[10, 20, 30, 40, 50]\n",
      "[10, 20, 30, 40, 50]\n",
      "[10, 20, 30, 40, 50]\n",
      "[10, 20, 30, 40, 50]\n",
      "[10, 20, 30, 40, 50]\n",
      "[10, 20, 30, 40, 50]\n",
      "[10, 20, 30, 40, 50]\n",
      "[10, 20, 30, 40, 50]\n",
      "[10, 20, 30, 40, 50]\n",
      "[10, 20, 30, 40, 50]\n",
      "10\n"
     ]
    }
   ],
   "source": [
    "l = [10,20,30,40,50]\n",
    "i = itertools.repeat(l)\n",
    "count = 0\n",
    "for value in i:\n",
    "    print(value)\n",
    "    count+=1\n",
    "    \n",
    "    if count>=10:\n",
    "        print(count)\n",
    "        break"
   ]
  },
  {
   "cell_type": "code",
   "execution_count": 33,
   "metadata": {},
   "outputs": [
    {
     "name": "stdout",
     "output_type": "stream",
     "text": [
      "0\n",
      "2\n",
      "4\n",
      "6\n",
      "8\n",
      "10\n",
      "12\n",
      "14\n",
      "16\n",
      "18\n",
      "20\n",
      "22\n",
      "24\n",
      "26\n",
      "28\n",
      "30\n",
      "32\n",
      "34\n",
      "36\n",
      "38\n",
      "40\n"
     ]
    }
   ],
   "source": [
    "import itertools\n",
    "count = 0\n",
    "for value in itertools.count(0,2):   # start point and step size\n",
    "    print(value)\n",
    "    count+=1\n",
    "    if count > 20:\n",
    "        break"
   ]
  },
  {
   "cell_type": "code",
   "execution_count": null,
   "metadata": {},
   "outputs": [],
   "source": [
    "list()\n",
    "for\n",
    "next()"
   ]
  },
  {
   "cell_type": "code",
   "execution_count": null,
   "metadata": {},
   "outputs": [],
   "source": [
    "chain \n",
    "islice \n",
    "repeat \n",
    "cycle \n",
    "permutations\n",
    "combinations\n",
    "count"
   ]
  },
  {
   "cell_type": "code",
   "execution_count": 36,
   "metadata": {},
   "outputs": [
    {
     "name": "stdout",
     "output_type": "stream",
     "text": [
      "60\n"
     ]
    }
   ],
   "source": [
    "def add(num1,num2):\n",
    "    num1 = num1 * 2\n",
    "    num2 = num2 * 2\n",
    "    return num1 + num2\n",
    "\n",
    "print(add(10,20))"
   ]
  },
  {
   "cell_type": "markdown",
   "metadata": {},
   "source": [
    "generators : func iterators"
   ]
  },
  {
   "cell_type": "code",
   "execution_count": null,
   "metadata": {},
   "outputs": [],
   "source": [
    "first_num = 0\n",
    "sec_num = 1 \n",
    "next_val = first_num + sec_num\n",
    "\n",
    "0,1 => 0+1 =1\n",
    "\n",
    "first_num = 1 \n",
    "sec_num = 1 \n",
    "next_val = 2"
   ]
  },
  {
   "cell_type": "code",
   "execution_count": 38,
   "metadata": {},
   "outputs": [
    {
     "name": "stdout",
     "output_type": "stream",
     "text": [
      "<generator object fibo at 0x0000013D1F0382A0>\n",
      "0\n",
      "1\n",
      "1\n",
      "2\n"
     ]
    }
   ],
   "source": [
    "def fibo():\n",
    "    num1 = 0\n",
    "    yield num1\n",
    "    num2 = 1\n",
    "    yield num2\n",
    "    \n",
    "    while True:\n",
    "        next_num = num1 + num2\n",
    "        yield next_num\n",
    "        num1,num2 = num2,next_num\n",
    "        \n",
    "g = fibo()\n",
    "print(g)\n",
    "print(next(g))  \n",
    "print(next(g)) \n",
    "print(next(g)) \n",
    "print(next(g))"
   ]
  },
  {
   "cell_type": "code",
   "execution_count": null,
   "metadata": {},
   "outputs": [],
   "source": []
  }
 ],
 "metadata": {
  "kernelspec": {
   "display_name": "Python 3",
   "language": "python",
   "name": "python3"
  },
  "language_info": {
   "codemirror_mode": {
    "name": "ipython",
    "version": 3
   },
   "file_extension": ".py",
   "mimetype": "text/x-python",
   "name": "python",
   "nbconvert_exporter": "python",
   "pygments_lexer": "ipython3",
   "version": "3.7.3"
  }
 },
 "nbformat": 4,
 "nbformat_minor": 2
}
