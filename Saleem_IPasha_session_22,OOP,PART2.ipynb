{
 "cells": [
  {
   "cell_type": "markdown",
   "metadata": {},
   "source": [
    "# SALEEM SESSION 22 OOP 2"
   ]
  },
  {
   "cell_type": "code",
   "execution_count": null,
   "metadata": {},
   "outputs": [],
   "source": [
    "INSTANCE VARIABLE THAT MEAN every objects as its own copy od perticular variable"
   ]
  },
  {
   "cell_type": "code",
   "execution_count": 1,
   "metadata": {},
   "outputs": [],
   "source": [
    "class class_name:\n",
    "    def __init__(self):   #CALL TO ALL SUCH FUNCTIONS WILL BE IMPLICITE CALL......SELF=REEFERENCE TO THE OBJECT\n",
    "        self.var_name = val\n",
    "        \n",
    "obj_name = class_name"
   ]
  },
  {
   "cell_type": "code",
   "execution_count": 2,
   "metadata": {},
   "outputs": [
    {
     "name": "stdout",
     "output_type": "stream",
     "text": [
      "abc@123\n"
     ]
    }
   ],
   "source": [
    "class User:\n",
    "    def __init__(Self,Username,Email,Password):\n",
    "        \n",
    "        Self.User_name = Username\n",
    "        Self.Email = Email\n",
    "        Self.Password = Password\n",
    "\n",
    "User1 = User(\"abc@123\",\"abc@gmail.com\",\"password@123\")\n",
    "# User(User1,\"abc@123\",\"abc@gmail.com\",\"password@123\")\n",
    "User2 = User(\"pqr@123\",\"pqr@gmail.com\",\"password@123\")\n",
    "print(User1.User_name)"
   ]
  },
  {
   "cell_type": "code",
   "execution_count": 5,
   "metadata": {},
   "outputs": [
    {
     "name": "stdout",
     "output_type": "stream",
     "text": [
      "3 RST 26.08 Fail\n",
      "[(<__main__.Student object at 0x000001A34E744160>, 36.32), (<__main__.Student object at 0x000001A34E744198>, 38.24), (<__main__.Student object at 0x000001A34E6CC828>, 36.0), (<__main__.Student object at 0x000001A34E6CC8D0>, 72.0), (<__main__.Student object at 0x000001A34E6CC860>, 46.56)]\n",
      "(<__main__.Student object at 0x000001A34E6CC8D0>, 72.0)\n",
      "Topper of the class is 5 PPP 72.0 Pass\n"
     ]
    }
   ],
   "source": [
    "class Student:\n",
    "    def __init__(self,roll_no,name):\n",
    "        self.roll_no = roll_no\n",
    "        self.name = name\n",
    "        \n",
    "    def add_marks(self,marks):\n",
    "        self.marks = marks\n",
    "        \n",
    "    def cal_result(self):\n",
    "        self.per = sum(self.marks.values())/625 * 100\n",
    "        if self.per >= 35:\n",
    "            self.result = \"Pass\"\n",
    "        else:\n",
    "            self.result = \"Fail\"\n",
    "            \n",
    "    def get_details(self):\n",
    "        return \"{} {} {} {}\".format(str(self.roll_no),self.name,round(self.per,2),self.result)\n",
    "    \n",
    "    \n",
    "stud1 = Student(1,\"ABC\")\n",
    "stud2 = Student(2,\"PQR\")\n",
    "stud3 = Student(3,\"RST\")\n",
    "stud4 = Student(4,\"XYZ\")\n",
    "stud5 = Student(5,\"PPP\")\n",
    "stud6 = Student(6,\"TTT\")\n",
    "\n",
    "stud1.add_marks({\"eng\":28,\"maths\":48,\"his\":34,\"sci\":68,\"geo\":49})\n",
    "stud2.add_marks({\"eng\":30,\"maths\":40,\"his\":59,\"sci\":70,\"geo\":40})\n",
    "stud3.add_marks({\"eng\":40,\"maths\":33,\"his\":30,\"sci\":30,\"geo\":30})\n",
    "stud4.add_marks({\"eng\":60,\"maths\":44,\"his\":35,\"sci\":56,\"geo\":30})\n",
    "stud5.add_marks({\"eng\":90,\"maths\":92,\"his\":80,\"sci\":94,\"geo\":94})\n",
    "stud6.add_marks({\"eng\":35,\"maths\":66,\"his\":59,\"sci\":76,\"geo\":55})\n",
    "\n",
    "students = [stud1,stud2,stud3,stud4,stud5,stud6]\n",
    "for student in students:\n",
    "    student.cal_result()\n",
    "    \n",
    "\n",
    "#Failed Students\n",
    "for student in students:\n",
    "    if student.result == \"Fail\":\n",
    "        print(student.get_details())\n",
    "        \n",
    "student_per = [(student,student.per) for student in students if student.result == \"Pass\"]\n",
    "print(student_per)\n",
    "topper = max(student_per,key = lambda t : t[1])\n",
    "print(topper)\n",
    "print(\"Topper of the class is\",topper[0].get_details())"
   ]
  },
  {
   "cell_type": "code",
   "execution_count": null,
   "metadata": {},
   "outputs": [],
   "source": []
  }
 ],
 "metadata": {
  "kernelspec": {
   "display_name": "Python 3",
   "language": "python",
   "name": "python3"
  },
  "language_info": {
   "codemirror_mode": {
    "name": "ipython",
    "version": 3
   },
   "file_extension": ".py",
   "mimetype": "text/x-python",
   "name": "python",
   "nbconvert_exporter": "python",
   "pygments_lexer": "ipython3",
   "version": "3.7.3"
  }
 },
 "nbformat": 4,
 "nbformat_minor": 2
}
