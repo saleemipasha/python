{
 "cells": [
  {
   "cell_type": "markdown",
   "metadata": {},
   "source": [
    "# SALEEM SESSION 21 OOP 1"
   ]
  },
  {
   "cell_type": "code",
   "execution_count": null,
   "metadata": {},
   "outputs": [],
   "source": [
    "class and objects"
   ]
  },
  {
   "cell_type": "code",
   "execution_count": null,
   "metadata": {},
   "outputs": [],
   "source": [
    "Class :\n",
    "    Data members / attributes / variables\n",
    "    Methods\n",
    "    \n",
    "Objects"
   ]
  },
  {
   "cell_type": "code",
   "execution_count": null,
   "metadata": {},
   "outputs": [],
   "source": [
    "Paytm\n",
    "Class:\n",
    "    contact\n",
    "    email\n",
    "    kyc\n",
    "    \n",
    "    recharge\n",
    "    boook_tickets\n",
    "    bill\n",
    "    wallet\n",
    "    \n",
    "user1\n",
    "user2"
   ]
  },
  {
   "cell_type": "code",
   "execution_count": null,
   "metadata": {},
   "outputs": [],
   "source": [
    "User\n",
    "   user_name\n",
    "    name\n",
    "    email\n",
    "    password\n",
    "    contact\n",
    "    \n",
    "    login\n",
    "    logout\n",
    "    \n",
    "    add_contact\n",
    "    add_name\n",
    "    update_name\n",
    "    update_email\n",
    "    change_password\n",
    "    change_contact"
   ]
  },
  {
   "cell_type": "code",
   "execution_count": 3,
   "metadata": {},
   "outputs": [
    {
     "name": "stdout",
     "output_type": "stream",
     "text": [
      "<__main__.User object at 0x000002DE0BAE4F98>\n"
     ]
    }
   ],
   "source": [
    "class User:\n",
    "    pass\n",
    "user1 = User()\n",
    "print(user1)"
   ]
  },
  {
   "cell_type": "markdown",
   "metadata": {},
   "source": [
    "# Instance Varible : Every object will have its own copy of that variable"
   ]
  },
  {
   "cell_type": "code",
   "execution_count": 7,
   "metadata": {},
   "outputs": [],
   "source": [
    "class User:\n",
    "    def __init__(Self,Username,Email,Password):\n",
    "        \n",
    "        Self.User_name = Username\n",
    "        Self.Email = Email\n",
    "        Self.Password = Password\n",
    "User1 = User(\"abc@123\",\"abc@gmail.com\",\"Password@123\")\n",
    "# user(user1,\"abc@123\",\"abc@gmail.com\",\"Password@123\")\n",
    "User2 = User(\"pqr@123\",\"pqr@gmail.com\",\"Password@123\")"
   ]
  },
  {
   "cell_type": "code",
   "execution_count": 8,
   "metadata": {},
   "outputs": [
    {
     "name": "stdout",
     "output_type": "stream",
     "text": [
      "abc@123 abc@gmail.com\n",
      "pqr@123 pqr@gmail.com\n"
     ]
    }
   ],
   "source": [
    "print(User1.User_name,User1.Email)\n",
    "print(User2.User_name,User2.Email)"
   ]
  },
  {
   "cell_type": "code",
   "execution_count": 5,
   "metadata": {},
   "outputs": [
    {
     "ename": "TypeError",
     "evalue": "User() takes no arguments",
     "output_type": "error",
     "traceback": [
      "\u001b[1;31m---------------------------------------------------------------------------\u001b[0m",
      "\u001b[1;31mTypeError\u001b[0m                                 Traceback (most recent call last)",
      "\u001b[1;32m<ipython-input-5-7776d2d4b218>\u001b[0m in \u001b[0;36m<module>\u001b[1;34m\u001b[0m\n\u001b[0;32m      6\u001b[0m         \u001b[0mSelf\u001b[0m\u001b[1;33m.\u001b[0m\u001b[0mPassword\u001b[0m \u001b[1;33m=\u001b[0m \u001b[0mPassword\u001b[0m\u001b[1;33m\u001b[0m\u001b[1;33m\u001b[0m\u001b[0m\n\u001b[0;32m      7\u001b[0m \u001b[1;33m\u001b[0m\u001b[0m\n\u001b[1;32m----> 8\u001b[1;33m \u001b[0mUser1\u001b[0m \u001b[1;33m=\u001b[0m \u001b[0mUser\u001b[0m\u001b[1;33m(\u001b[0m\u001b[1;34m\"abc@123\"\u001b[0m\u001b[1;33m,\u001b[0m\u001b[1;34m\"abc@gmail.com\"\u001b[0m\u001b[1;33m,\u001b[0m\u001b[1;34m\"password@123\"\u001b[0m\u001b[1;33m)\u001b[0m\u001b[1;33m\u001b[0m\u001b[1;33m\u001b[0m\u001b[0m\n\u001b[0m\u001b[0;32m      9\u001b[0m \u001b[0mUser2\u001b[0m \u001b[1;33m=\u001b[0m \u001b[0mUser\u001b[0m\u001b[1;33m(\u001b[0m\u001b[1;34m\"pqr@123\"\u001b[0m\u001b[1;33m,\u001b[0m\u001b[1;34m\"pqr@gmail.com\"\u001b[0m\u001b[1;33m,\u001b[0m\u001b[1;34m\"password@123\"\u001b[0m\u001b[1;33m)\u001b[0m\u001b[1;33m\u001b[0m\u001b[1;33m\u001b[0m\u001b[0m\n",
      "\u001b[1;31mTypeError\u001b[0m: User() takes no arguments"
     ]
    }
   ],
   "source": [
    "class User:\n",
    "    def signup(Self,Username,Email,Password):\n",
    "        \n",
    "        Self.User_name = Username\n",
    "        Self.Email = Email\n",
    "        Self.Password = Password\n",
    "\n",
    "User1 = User(\"abc@123\",\"abc@gmail.com\",\"password@123\")\n",
    "User2 = User(\"pqr@123\",\"pqr@gmail.com\",\"password@123\")"
   ]
  },
  {
   "cell_type": "code",
   "execution_count": 6,
   "metadata": {},
   "outputs": [
    {
     "name": "stdout",
     "output_type": "stream",
     "text": [
      "abc@123 abc@gmail.com\n",
      "pqr@123 pqr@gmail.com\n"
     ]
    }
   ],
   "source": [
    "class User:\n",
    "    def signup(Self,Username,Email,Password):\n",
    "        \n",
    "        Self.User_name = Username\n",
    "        Self.Email = Email\n",
    "        Self.Password = Password\n",
    "        \n",
    "User1 = User()\n",
    "User2 = User()\n",
    "\n",
    "User1.signup(\"abc@123\",\"abc@gmail.com\",\"password@123\")\n",
    "User2.signup(\"pqr@123\",\"pqr@gmail.com\",\"password@123\")\n",
    "\n",
    "print(User1.User_name,User1.Email)\n",
    "print(User2.User_name,User2.Email)"
   ]
  },
  {
   "cell_type": "code",
   "execution_count": 8,
   "metadata": {},
   "outputs": [
    {
     "name": "stdout",
     "output_type": "stream",
     "text": [
      "True\n"
     ]
    }
   ],
   "source": [
    "class User:\n",
    "    def __init__(Self,Username,Email,Password):\n",
    "        \n",
    "        Self.User_name = Username\n",
    "        Self.Email = Email\n",
    "        Self.Password = Password\n",
    "        \n",
    "    def login(Self,Username,Password):\n",
    "        if Self.User_name == Username and Self.Password == Password:\n",
    "            return True\n",
    "        else:\n",
    "            return False\n",
    "\n",
    "User1 = User(\"abc@123\",\"abc@gmail.com\",\"password@123\")\n",
    "\n",
    "# User(User1,\"abc@123\",\"abc@gmail.com\",\"password@123\")\n",
    "\n",
    "User2 = User(\"efg@123\",\"efg@gmail.com\",\"password@123\")\n",
    "\n",
    "print(User1.login(\"abc@123\",\"password@123\"))"
   ]
  },
  {
   "cell_type": "code",
   "execution_count": 9,
   "metadata": {},
   "outputs": [
    {
     "name": "stdout",
     "output_type": "stream",
     "text": [
      "ABC\n",
      "EFG\n"
     ]
    }
   ],
   "source": [
    "class User:\n",
    "    def __init__(Self,Username,Email,Password):\n",
    "        \n",
    "        Self.User_name = Username\n",
    "        Self.Email = Email\n",
    "        Self.Password = Password\n",
    "        \n",
    "    def login(Self,Username,Password):\n",
    "        if Self.User_name == Username and Self.password == Password:\n",
    "            return True\n",
    "        else:\n",
    "            return False\n",
    "        \n",
    "    def add_name(Self,Name):\n",
    "        Self.Name = Name\n",
    "\n",
    "User1 = User(\"abc@123\",\"abc@gmail.com\",\"password@123\")\n",
    "# User(User1,\"abc@123\",\"abc@gmail.com\",\"password@123\")\n",
    "User2 = User(\"EFG@123\",\"EFG@gmail.com\",\"password@123\")\n",
    "\n",
    "User1.add_name(\"ABC\")\n",
    "User2.add_name(\"EFG\")\n",
    "print(User1.Name)\n",
    "print(User2.Name)"
   ]
  },
  {
   "cell_type": "code",
   "execution_count": 10,
   "metadata": {},
   "outputs": [
    {
     "name": "stdout",
     "output_type": "stream",
     "text": [
      "{'User_name': 'abc@123', 'Email': 'abc@gmail.com', 'Password': 'password@123', 'Name': 'ABC'}\n",
      "{'User_name': 'EFG@123', 'Email': 'EFG@gmail.com', 'Password': 'password@123', 'Name': 'EFG'}\n"
     ]
    }
   ],
   "source": [
    "print(User1.__dict__) #object values \n",
    "print(User2.__dict__) #values are getting automatically"
   ]
  },
  {
   "cell_type": "code",
   "execution_count": 14,
   "metadata": {},
   "outputs": [
    {
     "name": "stdout",
     "output_type": "stream",
     "text": [
      "password@123\n",
      "abc@gmail\n"
     ]
    }
   ],
   "source": [
    "class User:\n",
    "    def __init__(Self,Username,Email,Password):\n",
    "        \n",
    "        Self.User_name = Username\n",
    "        Self.Email = Email\n",
    "        Self.Password = Password\n",
    "        \n",
    "    def login(Self,Username,Password):\n",
    "        if Self.User_name == Username and Self.Password == Password:\n",
    "            return True\n",
    "        else:\n",
    "            return False\n",
    "        \n",
    "    def change_password(Self,new_password):\n",
    "        Self.Password = new_password\n",
    "\n",
    "User1 = User(\"abc@123\",\"abc@gmail.com\",\"password@123\")\n",
    "# user(user1,\"abc@123\",\"abc@gmail.com\",\"password@123\")\n",
    "\n",
    "User2 = User(\"EFG@123\",\"EFG@gmail.com\",\"password@123\")\n",
    "print(User1.Password)  #old password\n",
    "\n",
    "User1.change_password(\"abc@gmail\") # new password\n",
    "print(User1.Password)"
   ]
  },
  {
   "cell_type": "code",
   "execution_count": 15,
   "metadata": {},
   "outputs": [
    {
     "name": "stdout",
     "output_type": "stream",
     "text": [
      "password@123\n",
      "<__main__.User object at 0x000002B850A1BC50>\n"
     ]
    }
   ],
   "source": [
    "class User:\n",
    "    def __init__(Self,Username,Email,Password):\n",
    "        \n",
    "        Self.User_name = Username\n",
    "        Self.Email = Email\n",
    "        Self.Password = Password\n",
    "        \n",
    "    def login(Self,Username,Password):\n",
    "        if Self.User_name == Username and Self.Password == Password:\n",
    "            return True\n",
    "        else:\n",
    "            return False\n",
    "        \n",
    "    def change_password(Self,new_password):\n",
    "        Self.Password = new_password\n",
    "\n",
    "User1 = User(\"abc@123\",\"abc@gmail.com\",\"password@123\")\n",
    "# user(user1,\"abc@123\",\"abc@gmail.com\",\"password@123\")\n",
    "\n",
    "User2 = User(\"EFG@123\",\"EFG@gmail.com\",\"password@123\")\n",
    "print(User1.Password)  #old password\n",
    "\n",
    "User1.change_password(\"abc@gmail\") # new password\n",
    "print(User1)"
   ]
  },
  {
   "cell_type": "code",
   "execution_count": 18,
   "metadata": {},
   "outputs": [
    {
     "name": "stdout",
     "output_type": "stream",
     "text": [
      "abc@123\n"
     ]
    }
   ],
   "source": [
    "class User:\n",
    "    def __init__(Self,Username,Email,Password):\n",
    "        \n",
    "        Self.User_name = Username\n",
    "        Self.Email = Email\n",
    "        Self.Password = Password\n",
    "        \n",
    "    def login(Self,Username,Password):\n",
    "        if Self.User_name == Username and Self.Password == Password:\n",
    "            return True\n",
    "        else:\n",
    "            return False\n",
    "        \n",
    "    def change_password(Self,new_password):\n",
    "        Self.Password = new_password\n",
    "        \n",
    "    def __str__(Self):\n",
    "        return Self.User_name \n",
    "\n",
    "User1 = User(\"abc@123\",\"abc@gmail.com\",\"password@123\")\n",
    "# user(user1,\"abc@123\",\"abc@gmail.com\",\"password@123\")\n",
    "\n",
    "User2 = User(\"EFG@123\",\"EFG@gmail.com\",\"password@123\")\n",
    "\n",
    "User1.change_password(\"abc@gmail\") # new password\n",
    "print(User1)"
   ]
  },
  {
   "cell_type": "code",
   "execution_count": 19,
   "metadata": {},
   "outputs": [
    {
     "name": "stdout",
     "output_type": "stream",
     "text": [
      "abc@123 abc@gmail\n"
     ]
    }
   ],
   "source": [
    "class User:\n",
    "    def __init__(Self,Username,Email,Password):\n",
    "        \n",
    "        Self.User_name = Username\n",
    "        Self.Email = Email\n",
    "        Self.Password = Password\n",
    "        \n",
    "    def login(Self,Username,Password):\n",
    "        if Self.User_name == Username and Self.Password == Password:\n",
    "            return True\n",
    "        else:\n",
    "            return False\n",
    "        \n",
    "    def change_password(Self,new_password):\n",
    "        Self.Password = new_password\n",
    "        \n",
    "    def __str__(Self):\n",
    "        return Self.User_name \n",
    "    \n",
    "    def __str__(Self):\n",
    "        return \"{} {}\".format(Self.User_name,Self.Password) \n",
    "\n",
    "User1 = User(\"abc@123\",\"abc@gmail.com\",\"password@123\")\n",
    "# user(user1,\"abc@123\",\"abc@gmail.com\",\"password@123\")\n",
    "\n",
    "User2 = User(\"EFG@123\",\"EFG@gmail.com\",\"password@123\")\n",
    "\n",
    "User1.change_password(\"abc@gmail\") # new password\n",
    "print(User1)"
   ]
  },
  {
   "cell_type": "code",
   "execution_count": 25,
   "metadata": {},
   "outputs": [
    {
     "name": "stdout",
     "output_type": "stream",
     "text": [
      "abc@123 abc@gmail.com ABC\n",
      "efg@123 EFG@gmail.com EFG\n",
      "hij@123 HIJ@gmail.com HIJ\n",
      "mno@123 MNO@gmail.com MNO\n"
     ]
    }
   ],
   "source": [
    "class User:\n",
    "    def __init__(Self,Username,Email,Password):\n",
    "        \n",
    "        Self.User_name = Username\n",
    "        Self.Email = Email\n",
    "        Self.Password = Password\n",
    "        \n",
    "    def login(Self,Username,Password):\n",
    "        if Self.User_name == Username and Self.Password == Password:\n",
    "            return True\n",
    "        else:\n",
    "            return False\n",
    "        \n",
    "    def add_name(self,name):\n",
    "        self.name = name\n",
    "        \n",
    "    def change_password(Self,new_password):\n",
    "        Self.Password = new_password\n",
    "        \n",
    "    def __str__(Self):\n",
    "        return Self.User_name \n",
    "    \n",
    "    def __str__(Self):\n",
    "        return \"{} {}\".format(Self.User_name,Self.Password) \n",
    "    \n",
    "    def get_details(Self):\n",
    "        return \"{} {} {}\".format(Self.User_name,Self.Email,Self.name)\n",
    "\n",
    "User1 = User(\"abc@123\",\"abc@gmail.com\",\"password@123\")\n",
    "# user(user1,\"abc@123\",\"abc@gmail.com\",\"password@123\")\n",
    "User2 = User(\"efg@123\",\"EFG@gmail.com\",\"password@123\")\n",
    "User3 = User(\"hij@123\",\"HIJ@gmail.com\",\"password@123\")\n",
    "User4 = User(\"mno@123\",\"MNO@gmail.com\",\"password@123\")\n",
    "\n",
    "User1.add_name(\"ABC\")\n",
    "User2.add_name(\"EFG\")\n",
    "User3.add_name(\"HIJ\")\n",
    "User4.add_name(\"MNO\")\n",
    "\n",
    "Users = [User1,User2,User3,User4]\n",
    "for User in Users:\n",
    "    print(User.get_details())"
   ]
  },
  {
   "cell_type": "markdown",
   "metadata": {},
   "source": [
    "# ------------------------------------------------------------------------------------------------"
   ]
  },
  {
   "cell_type": "markdown",
   "metadata": {},
   "source": [
    "Student \n",
    "     name \n",
    "     roll_no \n",
    "     \n",
    "    \n",
    "     add_marks marks = []\n",
    "     cal_result()\n",
    "    \n",
    "    \n",
    "     All students who failed \n",
    "     Topper of the class name,rollno, marks , percernatge"
   ]
  },
  {
   "cell_type": "code",
   "execution_count": 32,
   "metadata": {},
   "outputs": [
    {
     "name": "stdout",
     "output_type": "stream",
     "text": [
      "3 CCC 26.08 Fail\n",
      "[(<__main__.Student object at 0x000002B850A35278>, 36.32), (<__main__.Student object at 0x000002B850A352B0>, 38.24), (<__main__.Student object at 0x000002B850A35320>, 36.0), (<__main__.Student object at 0x000002B850A35390>, 72.0), (<__main__.Student object at 0x000002B850A353C8>, 46.56)]\n",
      "(<__main__.Student object at 0x000002B850A35390>, 72.0)\n",
      "Topper of the class is 5 EEE 72.0 Pass\n"
     ]
    }
   ],
   "source": [
    "class Student:\n",
    "    def __init__(self,roll_no,name):\n",
    "        self.roll_no = roll_no\n",
    "        self.name = name\n",
    "        \n",
    "    def add_marks(self,marks):\n",
    "        self.marks = marks\n",
    "        \n",
    "    def cal_result(self):\n",
    "        self.percent = sum(self.marks.values())/625 * 100\n",
    "        if self.percent >= 30:\n",
    "            self.result = \"Pass\"\n",
    "        else:\n",
    "            self.result = \"Fail\"\n",
    "            \n",
    "    def get_details(self):\n",
    "        return \"{} {} {} {}\".format(str(self.roll_no),self.name,round(self.percent,2),self.result)\n",
    "    \n",
    "    \n",
    "student1 = Student(1,\"AAA\")\n",
    "student2 = Student(2,\"BBB\")\n",
    "student3 = Student(3,\"CCC\")\n",
    "student4 = Student(4,\"DDD\")\n",
    "student5 = Student(5,\"EEE\")\n",
    "student6 = Student(6,\"FFF\")\n",
    "\n",
    "student1.add_marks({\"eng\":28,\"maths\":48,\"his\":34,\"sci\":68,\"geo\":49})\n",
    "student2.add_marks({\"eng\":30,\"maths\":40,\"his\":59,\"sci\":70,\"geo\":40})\n",
    "student3.add_marks({\"eng\":40,\"maths\":33,\"his\":30,\"sci\":30,\"geo\":30})\n",
    "student4.add_marks({\"eng\":60,\"maths\":44,\"his\":35,\"sci\":56,\"geo\":30})\n",
    "student5.add_marks({\"eng\":90,\"maths\":92,\"his\":80,\"sci\":94,\"geo\":94})\n",
    "student6.add_marks({\"eng\":35,\"maths\":66,\"his\":59,\"sci\":76,\"geo\":55})\n",
    "\n",
    "students = [student1,student2,student3,student4,student5,student6]\n",
    "for student in students:\n",
    "    student.cal_result()\n",
    "    \n",
    "\n",
    "#Failed Students\n",
    "for student in students:\n",
    "    if student.result == \"Fail\":\n",
    "        print(student.get_details())\n",
    "        \n",
    "student_percent = [(student,student.percent) for student in students if student.result == \"Pass\"]\n",
    "print(student_percent)\n",
    "topper = max(student_percent,key = lambda t : t[1])\n",
    "print(topper)\n",
    "print(\"Topper of the class is\",topper[0].get_details())"
   ]
  },
  {
   "cell_type": "code",
   "execution_count": null,
   "metadata": {},
   "outputs": [],
   "source": []
  }
 ],
 "metadata": {
  "kernelspec": {
   "display_name": "Python 3",
   "language": "python",
   "name": "python3"
  },
  "language_info": {
   "codemirror_mode": {
    "name": "ipython",
    "version": 3
   },
   "file_extension": ".py",
   "mimetype": "text/x-python",
   "name": "python",
   "nbconvert_exporter": "python",
   "pygments_lexer": "ipython3",
   "version": "3.7.3"
  }
 },
 "nbformat": 4,
 "nbformat_minor": 2
}
