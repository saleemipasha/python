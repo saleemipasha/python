{
 "cells": [
  {
   "cell_type": "markdown",
   "metadata": {},
   "source": [
    "# SALEEM SESSION 4"
   ]
  },
  {
   "cell_type": "markdown",
   "metadata": {},
   "source": [
    "Looping statements"
   ]
  },
  {
   "cell_type": "code",
   "execution_count": null,
   "metadata": {},
   "outputs": [],
   "source": [
    "Mutable :\n",
    "    list\n",
    "    set\n",
    "    dict\n",
    "Immutable:\n",
    "    int \n",
    "    float\n",
    "    str\n",
    "    tuple"
   ]
  },
  {
   "cell_type": "code",
   "execution_count": null,
   "metadata": {},
   "outputs": [],
   "source": [
    "iterable data types\n",
    "    list\n",
    "    set\n",
    "    dict\n",
    "    str\n",
    "    tuple"
   ]
  },
  {
   "cell_type": "code",
   "execution_count": null,
   "metadata": {},
   "outputs": [],
   "source": [
    "Looping Statements : For Loop\n",
    "                     While Loop"
   ]
  },
  {
   "cell_type": "code",
   "execution_count": 1,
   "metadata": {},
   "outputs": [
    {
     "name": "stdout",
     "output_type": "stream",
     "text": [
      "1\n",
      "1\n",
      "2\n",
      "4\n",
      "3\n",
      "9\n",
      "4\n",
      "16\n",
      "5\n",
      "25\n"
     ]
    }
   ],
   "source": [
    "l=[1,2,3,4,5]\n",
    "for value in l:\n",
    "    print(value)\n",
    "    \n",
    "    print(value * value)"
   ]
  },
  {
   "cell_type": "code",
   "execution_count": 5,
   "metadata": {},
   "outputs": [
    {
     "name": "stdout",
     "output_type": "stream",
     "text": [
      "P   P   P   P   P   P\n",
      "Y   Y   Y   Y   Y   Y\n",
      "T   T   T   T   T   T\n",
      "H   H   H   H   H   H\n",
      "O   O   O   O   O   O\n",
      "N   N   N   N   N   N\n",
      "                     \n",
      "I   I   I   I   I   I\n",
      "S   S   S   S   S   S\n",
      "                     \n",
      "B   B   B   B   B   B\n",
      "E   E   E   E   E   E\n",
      "T   T   T   T   T   T\n",
      "T   T   T   T   T   T\n",
      "E   E   E   E   E   E\n",
      "R   R   R   R   R   R\n"
     ]
    }
   ],
   "source": [
    "for value in \"PYTHON IS BETTER\" :\n",
    "    print(value,\" \",value,\" \",value,\" \",value,\" \",value,\" \",value)"
   ]
  },
  {
   "cell_type": "code",
   "execution_count": 1,
   "metadata": {},
   "outputs": [
    {
     "name": "stdout",
     "output_type": "stream",
     "text": [
      "email = SAM@gmail.com\n",
      "SAM@gmail.com\n"
     ]
    }
   ],
   "source": [
    "d={\"email\" : \"SAM@gmail.com\"}\n",
    "for ar in d :\n",
    "    print(ar,\"=\",d[\"email\"])\n",
    "print(d['email'])"
   ]
  },
  {
   "cell_type": "code",
   "execution_count": 22,
   "metadata": {},
   "outputs": [
    {
     "name": "stdout",
     "output_type": "stream",
     "text": [
      "2\n",
      "4\n",
      "12\n",
      "48\n"
     ]
    }
   ],
   "source": [
    "l=[1,2,3,4]\n",
    "sum = 2\n",
    "for value in l :\n",
    "    sum = value * sum\n",
    "    print(sum)"
   ]
  },
  {
   "cell_type": "code",
   "execution_count": 3,
   "metadata": {},
   "outputs": [
    {
     "name": "stdout",
     "output_type": "stream",
     "text": [
      "even 0\n",
      "even 2\n",
      "even 4\n",
      "even 6\n",
      "even 8\n",
      "even 10\n",
      "even 12\n",
      "even 14\n",
      "even 16\n",
      "even 18\n"
     ]
    }
   ],
   "source": [
    "for i in range(0,20,2): #start,end,stepsize\n",
    "    print(\"even\",i)"
   ]
  },
  {
   "cell_type": "code",
   "execution_count": 2,
   "metadata": {},
   "outputs": [
    {
     "name": "stdout",
     "output_type": "stream",
     "text": [
      "10\n",
      "20\n",
      "30\n",
      "the nagative number is present :  -10\n",
      "100\n",
      "20\n",
      "50\n",
      "60\n"
     ]
    }
   ],
   "source": [
    "l=[10,20,30,-10,100,20,50,60]\n",
    "for value in l:\n",
    "    if value < 0:\n",
    "        print(\"the nagative number is present : \", value)\n",
    "        continue\n",
    "    else :\n",
    "        print(value)"
   ]
  },
  {
   "cell_type": "code",
   "execution_count": 1,
   "metadata": {},
   "outputs": [
    {
     "name": "stdout",
     "output_type": "stream",
     "text": [
      "ENTER THE KEY : 33\n",
      "0\n",
      "num\n",
      "1\n",
      "num\n",
      "2\n",
      "num\n",
      "3\n",
      "num\n",
      "4\n",
      "num\n",
      "5\n",
      "num\n",
      "6\n",
      "num\n",
      "7\n",
      "num\n",
      "8\n",
      "num\n",
      "9\n",
      "num\n",
      "10\n",
      "num\n",
      "11\n",
      "num\n",
      "12\n",
      "num\n",
      "13\n",
      "num\n",
      "14\n",
      "num\n",
      "15\n",
      "num\n",
      "16\n",
      "num\n",
      "17\n",
      "num\n",
      "18\n",
      "num\n",
      "19\n",
      "num\n"
     ]
    }
   ],
   "source": [
    "key = int(input(\"ENTER THE KEY : \"))\n",
    "for num in range(0,20):\n",
    "    print(num)\n",
    "    if num == key:\n",
    "        print (num,\"is their\")\n",
    "        break\n",
    "    else :\n",
    "        print(\"num\")"
   ]
  },
  {
   "cell_type": "code",
   "execution_count": 4,
   "metadata": {},
   "outputs": [
    {
     "name": "stdout",
     "output_type": "stream",
     "text": [
      "10\n",
      "20\n",
      "30\n",
      "40\n",
      "50\n",
      "60\n",
      "70\n",
      "key is present\n"
     ]
    }
   ],
   "source": [
    "nums = [10,20,30,40,50,60,70]\n",
    "key = 70\n",
    "flag = False \n",
    "for value in nums :\n",
    "    print(value)\n",
    "    if value == key :\n",
    "        flag = True\n",
    "        break    \n",
    "if flag == True :\n",
    "    print(\"key is present\")\n",
    "else :\n",
    "    print(\"key is not present\")"
   ]
  },
  {
   "cell_type": "code",
   "execution_count": 9,
   "metadata": {},
   "outputs": [
    {
     "name": "stdout",
     "output_type": "stream",
     "text": [
      "0 1\n",
      "1 2\n",
      "2 3\n",
      "3 45\n",
      "4 5\n",
      "5 p\n"
     ]
    }
   ],
   "source": [
    "l=[1,2,3,45,5,\"p\"]\n",
    "for index,value in enumerate(l):   #which are a set of symbolic names (members) bound to unique, constant values. ... \n",
    "    print(index,value)"
   ]
  },
  {
   "cell_type": "code",
   "execution_count": 10,
   "metadata": {},
   "outputs": [
    {
     "name": "stdout",
     "output_type": "stream",
     "text": [
      "ENTER THE KEY: 4\n",
      "4 key is not present\n",
      "4 key is not present\n",
      "4 key is not present\n",
      "4 key is present in position 3\n",
      "4 key is not present\n"
     ]
    }
   ],
   "source": [
    "key = int(input(\"ENTER THE KEY: \"))\n",
    "l=[1,2,3,4,5]\n",
    "for index, value in enumerate(l) :\n",
    "        \n",
    "    if value == key :\n",
    "        print(key ,\"key is present in position\",index)\n",
    "        \n",
    "    else :\n",
    "        print(key,\"key is not present\")"
   ]
  },
  {
   "cell_type": "code",
   "execution_count": 11,
   "metadata": {},
   "outputs": [
    {
     "name": "stdout",
     "output_type": "stream",
     "text": [
      "3\n",
      "1\n",
      "3\n",
      "3\n",
      "not a perfect number\n"
     ]
    }
   ],
   "source": [
    "num1=6\n",
    "sum=0\n",
    "a=num1 // 2\n",
    "for value in range(1,a):\n",
    "    print(a)\n",
    "    if num1 % value == 0:\n",
    "        sum=sum + value\n",
    "        print(sum)\n",
    "if sum == num1:\n",
    "    print(\"perfect number\")\n",
    "else :\n",
    "    print(\"not a perfect number\")"
   ]
  },
  {
   "cell_type": "code",
   "execution_count": 12,
   "metadata": {},
   "outputs": [
    {
     "name": "stdout",
     "output_type": "stream",
     "text": [
      "0\n",
      "5\n",
      "10\n",
      "15\n",
      "20\n",
      "25\n",
      "30\n",
      "35\n",
      "40\n",
      "45\n",
      "50\n",
      "55\n",
      "60\n",
      "65\n",
      "70\n",
      "75\n",
      "80\n",
      "85\n",
      "90\n",
      "95\n"
     ]
    }
   ],
   "source": [
    "S1 = 5\n",
    "for value in range(0,20):\n",
    "    print(S1*value)"
   ]
  },
  {
   "cell_type": "code",
   "execution_count": 23,
   "metadata": {},
   "outputs": [
    {
     "name": "stdout",
     "output_type": "stream",
     "text": [
      "0 1 2 3 4 \n",
      "\n",
      "1 2 3 4 5 \n",
      "\n",
      "2 3 4 5 6 \n",
      "\n",
      "3 4 5 6 7 \n",
      "\n",
      "4 5 6 7 8 \n",
      "\n"
     ]
    }
   ],
   "source": [
    "for value1 in range(0,5):\n",
    "    \n",
    "    for value2 in range(0,5) :\n",
    "    \n",
    "        print(value1+value2,end = \" \")\n",
    "    print(\"\\n\")"
   ]
  },
  {
   "cell_type": "code",
   "execution_count": 25,
   "metadata": {},
   "outputs": [
    {
     "name": "stdout",
     "output_type": "stream",
     "text": [
      "statement get executed\n",
      "1\n",
      "statement get executed\n",
      "3\n",
      "statement get executed\n",
      "6\n",
      "statement get executed\n",
      "10\n",
      "statement get executed\n",
      "15\n",
      "statement get executed\n",
      "21\n",
      "statement get executed\n",
      "28\n",
      "statement get executed\n",
      "36\n",
      "statement get executed\n",
      "45\n",
      "statement get executed\n",
      "55\n",
      "statement get executed\n",
      "66\n",
      "statement get executed\n",
      "78\n",
      "statement get executed\n",
      "91\n"
     ]
    }
   ],
   "source": [
    "count=1\n",
    "sum=0\n",
    "while count<=20:\n",
    "    sum=sum+count\n",
    "    count=count+1\n",
    "    if count ==15:\n",
    "        break\n",
    "    else:\n",
    "        print(\"statement get executed\")\n",
    "    print(sum)"
   ]
  },
  {
   "cell_type": "code",
   "execution_count": null,
   "metadata": {},
   "outputs": [],
   "source": [
    "Overview:"
   ]
  },
  {
   "cell_type": "code",
   "execution_count": null,
   "metadata": {},
   "outputs": [],
   "source": [
    "for loop syntax\n",
    "for userdefined_variables"
   ]
  },
  {
   "cell_type": "code",
   "execution_count": 4,
   "metadata": {},
   "outputs": [
    {
     "name": "stdout",
     "output_type": "stream",
     "text": [
      "10 20 Python\n"
     ]
    }
   ],
   "source": [
    "print(10,20,\"Python\")"
   ]
  },
  {
   "cell_type": "code",
   "execution_count": 11,
   "metadata": {},
   "outputs": [
    {
     "name": "stdout",
     "output_type": "stream",
     "text": [
      "10,20,30,50,PYTHON\n",
      "Hi\n"
     ]
    }
   ],
   "source": [
    "print(10,20,30,50,\"PYTHON\",sep = \",\")\n",
    "print(\"Hi\")"
   ]
  },
  {
   "cell_type": "code",
   "execution_count": 12,
   "metadata": {},
   "outputs": [
    {
     "name": "stdout",
     "output_type": "stream",
     "text": [
      "10,20,30,50,PYTHON IS GOOD\n"
     ]
    }
   ],
   "source": [
    "print(10,20,30,50,\"PYTHON\",sep = \",\",end = \" \")\n",
    "print(\"IS\",end = \" \")\n",
    "print(\"GOOD\")"
   ]
  },
  {
   "cell_type": "code",
   "execution_count": null,
   "metadata": {},
   "outputs": [],
   "source": [
    "while => True/False:\n",
    "    statements"
   ]
  },
  {
   "cell_type": "code",
   "execution_count": 15,
   "metadata": {},
   "outputs": [
    {
     "name": "stdout",
     "output_type": "stream",
     "text": [
      "24\n"
     ]
    }
   ],
   "source": [
    "num1 = 4\n",
    "result = 1\n",
    "while num1 > 1:\n",
    "    result = result * num1\n",
    "    num1 = num1 - 1\n",
    "print(result)"
   ]
  }
 ],
 "metadata": {
  "kernelspec": {
   "display_name": "Python 3",
   "language": "python",
   "name": "python3"
  },
  "language_info": {
   "codemirror_mode": {
    "name": "ipython",
    "version": 3
   },
   "file_extension": ".py",
   "mimetype": "text/x-python",
   "name": "python",
   "nbconvert_exporter": "python",
   "pygments_lexer": "ipython3",
   "version": "3.7.3"
  }
 },
 "nbformat": 4,
 "nbformat_minor": 2
}
